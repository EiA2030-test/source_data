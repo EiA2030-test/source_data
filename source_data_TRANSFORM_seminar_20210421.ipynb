{
 "cells": [
  {
   "cell_type": "markdown",
   "metadata": {},
   "source": [
    "# **EiA 2030 - TRANSFORM Seminar Series**\n",
    "## Solutions to streamline data and tools for climate-smart and sustainable agronomy intensification\n",
    "#### **Siyabusa Mkhulani and Eduardo Garcia Bendito** | 21/04/2021"
   ]
  },
  {
   "cell_type": "markdown",
   "metadata": {},
   "source": [
    "-----\n",
    "![](img/green_geom.png)"
   ]
  },
  {
   "cell_type": "markdown",
   "metadata": {},
   "source": [
    "<span style=\"font-size:1.25em;\">This session will cover some practical examples to develop and integrate data and tools required to develop climate-smart and sustainable agronomy solutions at scale. Following the general framework proposed in [TRANSFORM](https://teams.microsoft.com/l/entity/com.microsoft.teamspace.tab.wiki/tab::2eef53a9-c9c3-4edc-b4dc-0c7dbb2feb05?context=%7B%22subEntityId%22%3A%22%7B%5C%22pageId%5C%22%3A6%2C%5C%22origin%5C%22%3A2%7D%22%2C%22channelId%22%3A%2219%3A66add638f81245ae88248385ec8ed3ab%40thread.tacv2%22%7D&tenantId=6afa0e00-fa14-40b7-8a2e-22a7f8c357d5) (see below) following the ideas to achieve a collaborative and efficient outcome in an asynchronous way, contributing materials, functionality, data and ideas.</span>\n",
    "\n",
    "![](img/TRANSFORM_framework.png)"
   ]
  },
  {
   "cell_type": "markdown",
   "metadata": {},
   "source": [
    "<span style=\"font-size:1.25em;\">The session tries to give a general overview of the TRANSFORM Turnkey Solutions, presenting a few examples of funtionalities. Also, it aims to present a working example of how to organize, work, and contribute materials in a collaborative and asynchronous way. To do so, it shows some pracical examples of code and idenified relevant data. Here, we present an example to source data from:</span>\n",
    "\n",
    "* <span style=\"font-size:1.25em;\">[NASA POWER](https://power.larc.nasa.gov/docs/services/api/)</span>\n",
    "* <span style=\"font-size:1.25em;\">[Google Earth Catalog](https://developers.google.com/earth-engine/datasets/catalog?hl=en)</span>\n",
    "* <span style=\"font-size:1.25em;\">[OpenLandMap.org](https://openlandmap.org/)</span>\n",
    "\n",
    "<span style=\"font-size:1.25em;\">You can find this notebook at: [https://github.com/EiA2030/source_data/source_data_TRANSFORM_seminar_20210421.ipynb](https://github.com/EiA2030/source_data)</span>"
   ]
  },
  {
   "cell_type": "markdown",
   "metadata": {},
   "source": [
    "## NASA POWER API\n",
    "\n",
    "<span style=\"font-size:1.25em;\">NASA POWER Provides solar and meteorological data sets from NASA research for support of renewable energy, building energy efficiency and supporting agricultural data needs. Data services are provided through a series of restful Application Programming Interfaces (API) distributing Analysis Ready Data to end users.</span>\n",
    "\n",
    "<span style=\"font-size:1.25em;\">In this first example, we use the [``nasapower`` R package](https://github.com/ropensci/nasapower)</span>\n",
    "\n",
    "![](img/logo.png)"
   ]
  },
  {
   "cell_type": "markdown",
   "metadata": {},
   "source": [
    "\n",
    "<span style=\"font-size:1.25em;\">1. Download NASA's POWER data using CG Labs Weather Data Tool</span>\n",
    "\n",
    "![](img/video1.gif)"
   ]
  },
  {
   "cell_type": "markdown",
   "metadata": {},
   "source": [
    "<span style=\"font-size:1.25em;\">2. Format your selected NASA POWER data to the desired format (table; vector points; raster stack)</span>\n",
    "\n",
    "<span style=\"font-size:1.25em;\">[``nasapower_json2output.R``]() is a R script with 3 functions which reads your JSON file from NASA POWER and formats it into different outputs. Let's look at it:</span>\n",
    "\n",
    "<span style=\"font-size:1.25em;\">First, read the JSON and unnest the relevant properties. We look for **geometry** (contains the coordinates) and **parameter** (contains the selected variable). The parameter should be ``t2m``, ``ws10m`` or ``ps``. Then, we create a ``data.frame`` of the following format:</span> \n",
    "\n",
    "| <span style=\"font-size:1.25em;\">lat</span>              | <span style=\"font-size:1.25em;\">long  </span>            | <span style=\"font-size:1.25em;\">date</span>           | <span style=\"font-size:1.25em;\">parameter (t2m; ps, ws10m)</span>|\n",
    "| ---------------- |:-----------------:|:--------------:|--------------------------:|\n",
    "| <span style=\"font-size:1.25em;\">datatype: numeric</span>| <span style=\"font-size:1.25em;\">datatype: numeric</span> | <span style=\"font-size:1.25em;\">datatype: date | datatype: numeric</span>         |\n",
    "\n",
    "\n",
    "<span style=\"font-size:1.25em;\">For example:</span>"
   ]
  },
  {
   "cell_type": "code",
   "execution_count": 43,
   "metadata": {},
   "outputs": [
    {
     "data": {
      "text/html": [
       "<table>\n",
       "<caption>A tibble: 6 × 4</caption>\n",
       "<thead>\n",
       "\t<tr><th scope=col>lat</th><th scope=col>lon</th><th scope=col>date</th><th scope=col>t2m</th></tr>\n",
       "\t<tr><th scope=col>&lt;dbl&gt;</th><th scope=col>&lt;dbl&gt;</th><th scope=col>&lt;date&gt;</th><th scope=col>&lt;dbl&gt;</th></tr>\n",
       "</thead>\n",
       "<tbody>\n",
       "\t<tr><td>-1.75</td><td>36.25</td><td>2021-01-01</td><td>22.10</td></tr>\n",
       "\t<tr><td>-1.75</td><td>36.75</td><td>2021-01-01</td><td>20.16</td></tr>\n",
       "\t<tr><td>-1.75</td><td>37.25</td><td>2021-01-01</td><td>20.26</td></tr>\n",
       "\t<tr><td>-1.75</td><td>37.75</td><td>2021-01-01</td><td>21.72</td></tr>\n",
       "\t<tr><td>-1.75</td><td>38.25</td><td>2021-01-01</td><td>24.00</td></tr>\n",
       "\t<tr><td>-1.75</td><td>38.75</td><td>2021-01-01</td><td>26.74</td></tr>\n",
       "</tbody>\n",
       "</table>\n"
      ],
      "text/latex": [
       "A tibble: 6 × 4\n",
       "\\begin{tabular}{llll}\n",
       " lat & lon & date & t2m\\\\\n",
       " <dbl> & <dbl> & <date> & <dbl>\\\\\n",
       "\\hline\n",
       "\t -1.75 & 36.25 & 2021-01-01 & 22.10\\\\\n",
       "\t -1.75 & 36.75 & 2021-01-01 & 20.16\\\\\n",
       "\t -1.75 & 37.25 & 2021-01-01 & 20.26\\\\\n",
       "\t -1.75 & 37.75 & 2021-01-01 & 21.72\\\\\n",
       "\t -1.75 & 38.25 & 2021-01-01 & 24.00\\\\\n",
       "\t -1.75 & 38.75 & 2021-01-01 & 26.74\\\\\n",
       "\\end{tabular}\n"
      ],
      "text/markdown": [
       "\n",
       "A tibble: 6 × 4\n",
       "\n",
       "| lat &lt;dbl&gt; | lon &lt;dbl&gt; | date &lt;date&gt; | t2m &lt;dbl&gt; |\n",
       "|---|---|---|---|\n",
       "| -1.75 | 36.25 | 2021-01-01 | 22.10 |\n",
       "| -1.75 | 36.75 | 2021-01-01 | 20.16 |\n",
       "| -1.75 | 37.25 | 2021-01-01 | 20.26 |\n",
       "| -1.75 | 37.75 | 2021-01-01 | 21.72 |\n",
       "| -1.75 | 38.25 | 2021-01-01 | 24.00 |\n",
       "| -1.75 | 38.75 | 2021-01-01 | 26.74 |\n",
       "\n"
      ],
      "text/plain": [
       "  lat   lon   date       t2m  \n",
       "1 -1.75 36.25 2021-01-01 22.10\n",
       "2 -1.75 36.75 2021-01-01 20.16\n",
       "3 -1.75 37.25 2021-01-01 20.26\n",
       "4 -1.75 37.75 2021-01-01 21.72\n",
       "5 -1.75 38.25 2021-01-01 24.00\n",
       "6 -1.75 38.75 2021-01-01 26.74"
      ]
     },
     "metadata": {},
     "output_type": "display_data"
    }
   ],
   "source": [
    "f_tblR.JSON <- function(file_name,p){\n",
    "          require(rjson)\n",
    "          require(tidyverse)\n",
    "          require(sf)\n",
    "          json <- enframe(unlist(fromJSON(file = file_name)))\n",
    "          json <- json %>% \n",
    "            separate(name, into = c(paste0(\"name\", 1:5)), fill = \"right\") %>%\n",
    "            filter(name1 == \"features\" &\n",
    "                     name2 == \"geometry\" &\n",
    "                     name3 %in% c(\"coordinates1\", \"coordinates2\") |\n",
    "                     (name1 == \"features\" &\n",
    "                        name2 == \"properties\" &\n",
    "                        name3 == \"parameter\")) %>%\n",
    "            dplyr::select(name5, value)\n",
    "          \n",
    "          json <- json %>%\n",
    "            mutate(lat = if_else(is.na(name5), as.numeric(value), as.numeric(NA))) %>%\n",
    "            mutate(lon = if_else(is.na(name5), as.numeric(lag(value, n = 1L)), as.numeric(NA))) %>%\n",
    "            mutate(date = if_else(is.na(name5), as.Date(NA), as.Date(name5, \"%Y%m%d\"))) %>% \n",
    "            mutate(parameter = if_else(is.na(name5), as.numeric(NA), as.numeric(value))) %>%\n",
    "            dplyr::select(lat, lon, date, parameter) %>%\n",
    "            filter(!is.na(lat) & !is.na(lon) |\n",
    "                     (!is.na(date) & !is.na(p)))\n",
    "          colnames(json) <- c(\"lat\", \"lon\", \"date\",p)\n",
    "          \n",
    "          while(length(ind <- which(is.na(json$lat))) > 0){\n",
    "            json$lat[ind] <- json$lat[ind -1]\n",
    "          }\n",
    "          while(length(ind <- which(is.na(json$lon))) > 0){\n",
    "            json$lon[ind] <- json$lon[ind -1]\n",
    "          }\n",
    "          \n",
    "          json <- json %>%\n",
    "            filter(!is.na(date) & !is.na(p))\n",
    "          json <- json %>%\n",
    "            arrange(date, lat, lon)\n",
    "          return(json)\n",
    "        }\n",
    "head(f_tblR.JSON(\"/home/jovyan/work/git/source_data/data/POWER_Regional_Daily_20210101_20210110_d2b00515.json\", \"t2m\"))"
   ]
  },
  {
   "cell_type": "markdown",
   "metadata": {},
   "source": [
    "<span style=\"font-size:1.25em;\">Alternatively, if we want to create table of geometries:</span> "
   ]
  },
  {
   "cell_type": "code",
   "execution_count": 46,
   "metadata": {},
   "outputs": [
    {
     "data": {
      "application/geo+json": {
       "features": [
        {
         "geometry": {
          "coordinates": [
           36.25,
           -1.75
          ],
          "type": "Point"
         },
         "properties": {
          "YYYYMMDD": "2021-01-01",
          "t2m": 22.1
         },
         "type": "Feature"
        },
        {
         "geometry": {
          "coordinates": [
           36.75,
           -1.75
          ],
          "type": "Point"
         },
         "properties": {
          "YYYYMMDD": "2021-01-01",
          "t2m": 20.16
         },
         "type": "Feature"
        },
        {
         "geometry": {
          "coordinates": [
           37.25,
           -1.75
          ],
          "type": "Point"
         },
         "properties": {
          "YYYYMMDD": "2021-01-01",
          "t2m": 20.26
         },
         "type": "Feature"
        },
        {
         "geometry": {
          "coordinates": [
           37.75,
           -1.75
          ],
          "type": "Point"
         },
         "properties": {
          "YYYYMMDD": "2021-01-01",
          "t2m": 21.72
         },
         "type": "Feature"
        },
        {
         "geometry": {
          "coordinates": [
           38.25,
           -1.75
          ],
          "type": "Point"
         },
         "properties": {
          "YYYYMMDD": "2021-01-01",
          "t2m": 24
         },
         "type": "Feature"
        },
        {
         "geometry": {
          "coordinates": [
           38.75,
           -1.75
          ],
          "type": "Point"
         },
         "properties": {
          "YYYYMMDD": "2021-01-01",
          "t2m": 26.74
         },
         "type": "Feature"
        },
        {
         "geometry": {
          "coordinates": [
           39.25,
           -1.75
          ],
          "type": "Point"
         },
         "properties": {
          "YYYYMMDD": "2021-01-01",
          "t2m": 28.03
         },
         "type": "Feature"
        },
        {
         "geometry": {
          "coordinates": [
           36.25,
           -1.25
          ],
          "type": "Point"
         },
         "properties": {
          "YYYYMMDD": "2021-01-01",
          "t2m": 18.28
         },
         "type": "Feature"
        },
        {
         "geometry": {
          "coordinates": [
           36.75,
           -1.25
          ],
          "type": "Point"
         },
         "properties": {
          "YYYYMMDD": "2021-01-01",
          "t2m": 18.67
         },
         "type": "Feature"
        },
        {
         "geometry": {
          "coordinates": [
           37.25,
           -1.25
          ],
          "type": "Point"
         },
         "properties": {
          "YYYYMMDD": "2021-01-01",
          "t2m": 19.93
         },
         "type": "Feature"
        },
        {
         "geometry": {
          "coordinates": [
           37.75,
           -1.25
          ],
          "type": "Point"
         },
         "properties": {
          "YYYYMMDD": "2021-01-01",
          "t2m": 21.67
         },
         "type": "Feature"
        },
        {
         "geometry": {
          "coordinates": [
           38.25,
           -1.25
          ],
          "type": "Point"
         },
         "properties": {
          "YYYYMMDD": "2021-01-01",
          "t2m": 23.78
         },
         "type": "Feature"
        },
        {
         "geometry": {
          "coordinates": [
           38.75,
           -1.25
          ],
          "type": "Point"
         },
         "properties": {
          "YYYYMMDD": "2021-01-01",
          "t2m": 26.32
         },
         "type": "Feature"
        },
        {
         "geometry": {
          "coordinates": [
           39.25,
           -1.25
          ],
          "type": "Point"
         },
         "properties": {
          "YYYYMMDD": "2021-01-01",
          "t2m": 27.64
         },
         "type": "Feature"
        },
        {
         "geometry": {
          "coordinates": [
           36.25,
           -0.75
          ],
          "type": "Point"
         },
         "properties": {
          "YYYYMMDD": "2021-01-01",
          "t2m": 14.85
         },
         "type": "Feature"
        },
        {
         "geometry": {
          "coordinates": [
           36.75,
           -0.75
          ],
          "type": "Point"
         },
         "properties": {
          "YYYYMMDD": "2021-01-01",
          "t2m": 16.2
         },
         "type": "Feature"
        },
        {
         "geometry": {
          "coordinates": [
           37.25,
           -0.75
          ],
          "type": "Point"
         },
         "properties": {
          "YYYYMMDD": "2021-01-01",
          "t2m": 18.65
         },
         "type": "Feature"
        },
        {
         "geometry": {
          "coordinates": [
           37.75,
           -0.75
          ],
          "type": "Point"
         },
         "properties": {
          "YYYYMMDD": "2021-01-01",
          "t2m": 21.29
         },
         "type": "Feature"
        },
        {
         "geometry": {
          "coordinates": [
           38.25,
           -0.75
          ],
          "type": "Point"
         },
         "properties": {
          "YYYYMMDD": "2021-01-01",
          "t2m": 23.73
         },
         "type": "Feature"
        },
        {
         "geometry": {
          "coordinates": [
           38.75,
           -0.75
          ],
          "type": "Point"
         },
         "properties": {
          "YYYYMMDD": "2021-01-01",
          "t2m": 25.87
         },
         "type": "Feature"
        },
        {
         "geometry": {
          "coordinates": [
           39.25,
           -0.75
          ],
          "type": "Point"
         },
         "properties": {
          "YYYYMMDD": "2021-01-01",
          "t2m": 27.3
         },
         "type": "Feature"
        },
        {
         "geometry": {
          "coordinates": [
           36.25,
           -0.25
          ],
          "type": "Point"
         },
         "properties": {
          "YYYYMMDD": "2021-01-01",
          "t2m": 14.98
         },
         "type": "Feature"
        },
        {
         "geometry": {
          "coordinates": [
           36.75,
           -0.25
          ],
          "type": "Point"
         },
         "properties": {
          "YYYYMMDD": "2021-01-01",
          "t2m": 15.47
         },
         "type": "Feature"
        },
        {
         "geometry": {
          "coordinates": [
           37.25,
           -0.25
          ],
          "type": "Point"
         },
         "properties": {
          "YYYYMMDD": "2021-01-01",
          "t2m": 16.68
         },
         "type": "Feature"
        },
        {
         "geometry": {
          "coordinates": [
           37.75,
           -0.25
          ],
          "type": "Point"
         },
         "properties": {
          "YYYYMMDD": "2021-01-01",
          "t2m": 19.75
         },
         "type": "Feature"
        },
        {
         "geometry": {
          "coordinates": [
           38.25,
           -0.25
          ],
          "type": "Point"
         },
         "properties": {
          "YYYYMMDD": "2021-01-01",
          "t2m": 23.88
         },
         "type": "Feature"
        },
        {
         "geometry": {
          "coordinates": [
           38.75,
           -0.25
          ],
          "type": "Point"
         },
         "properties": {
          "YYYYMMDD": "2021-01-01",
          "t2m": 25.8
         },
         "type": "Feature"
        },
        {
         "geometry": {
          "coordinates": [
           39.25,
           -0.25
          ],
          "type": "Point"
         },
         "properties": {
          "YYYYMMDD": "2021-01-01",
          "t2m": 27.22
         },
         "type": "Feature"
        },
        {
         "geometry": {
          "coordinates": [
           36.25,
           0.25
          ],
          "type": "Point"
         },
         "properties": {
          "YYYYMMDD": "2021-01-01",
          "t2m": 17.56
         },
         "type": "Feature"
        },
        {
         "geometry": {
          "coordinates": [
           36.75,
           0.25
          ],
          "type": "Point"
         },
         "properties": {
          "YYYYMMDD": "2021-01-01",
          "t2m": 16.97
         },
         "type": "Feature"
        },
        {
         "geometry": {
          "coordinates": [
           37.25,
           0.25
          ],
          "type": "Point"
         },
         "properties": {
          "YYYYMMDD": "2021-01-01",
          "t2m": 17.46
         },
         "type": "Feature"
        },
        {
         "geometry": {
          "coordinates": [
           37.75,
           0.25
          ],
          "type": "Point"
         },
         "properties": {
          "YYYYMMDD": "2021-01-01",
          "t2m": 20.02
         },
         "type": "Feature"
        },
        {
         "geometry": {
          "coordinates": [
           38.25,
           0.25
          ],
          "type": "Point"
         },
         "properties": {
          "YYYYMMDD": "2021-01-01",
          "t2m": 23.87
         },
         "type": "Feature"
        },
        {
         "geometry": {
          "coordinates": [
           38.75,
           0.25
          ],
          "type": "Point"
         },
         "properties": {
          "YYYYMMDD": "2021-01-01",
          "t2m": 26.1
         },
         "type": "Feature"
        },
        {
         "geometry": {
          "coordinates": [
           39.25,
           0.25
          ],
          "type": "Point"
         },
         "properties": {
          "YYYYMMDD": "2021-01-01",
          "t2m": 27.4
         },
         "type": "Feature"
        },
        {
         "geometry": {
          "coordinates": [
           36.25,
           0.75
          ],
          "type": "Point"
         },
         "properties": {
          "YYYYMMDD": "2021-01-01",
          "t2m": 20.17
         },
         "type": "Feature"
        },
        {
         "geometry": {
          "coordinates": [
           36.75,
           0.75
          ],
          "type": "Point"
         },
         "properties": {
          "YYYYMMDD": "2021-01-01",
          "t2m": 18.28
         },
         "type": "Feature"
        },
        {
         "geometry": {
          "coordinates": [
           37.25,
           0.75
          ],
          "type": "Point"
         },
         "properties": {
          "YYYYMMDD": "2021-01-01",
          "t2m": 19.54
         },
         "type": "Feature"
        },
        {
         "geometry": {
          "coordinates": [
           37.75,
           0.75
          ],
          "type": "Point"
         },
         "properties": {
          "YYYYMMDD": "2021-01-01",
          "t2m": 22.01
         },
         "type": "Feature"
        },
        {
         "geometry": {
          "coordinates": [
           38.25,
           0.75
          ],
          "type": "Point"
         },
         "properties": {
          "YYYYMMDD": "2021-01-01",
          "t2m": 24.53
         },
         "type": "Feature"
        },
        {
         "geometry": {
          "coordinates": [
           38.75,
           0.75
          ],
          "type": "Point"
         },
         "properties": {
          "YYYYMMDD": "2021-01-01",
          "t2m": 26.64
         },
         "type": "Feature"
        },
        {
         "geometry": {
          "coordinates": [
           39.25,
           0.75
          ],
          "type": "Point"
         },
         "properties": {
          "YYYYMMDD": "2021-01-01",
          "t2m": 27.57
         },
         "type": "Feature"
        },
        {
         "geometry": {
          "coordinates": [
           36.25,
           1.25
          ],
          "type": "Point"
         },
         "properties": {
          "YYYYMMDD": "2021-01-01",
          "t2m": 22.56
         },
         "type": "Feature"
        },
        {
         "geometry": {
          "coordinates": [
           36.75,
           1.25
          ],
          "type": "Point"
         },
         "properties": {
          "YYYYMMDD": "2021-01-01",
          "t2m": 19.99
         },
         "type": "Feature"
        },
        {
         "geometry": {
          "coordinates": [
           37.25,
           1.25
          ],
          "type": "Point"
         },
         "properties": {
          "YYYYMMDD": "2021-01-01",
          "t2m": 21.07
         },
         "type": "Feature"
        },
        {
         "geometry": {
          "coordinates": [
           37.75,
           1.25
          ],
          "type": "Point"
         },
         "properties": {
          "YYYYMMDD": "2021-01-01",
          "t2m": 23.5
         },
         "type": "Feature"
        },
        {
         "geometry": {
          "coordinates": [
           38.25,
           1.25
          ],
          "type": "Point"
         },
         "properties": {
          "YYYYMMDD": "2021-01-01",
          "t2m": 25.77
         },
         "type": "Feature"
        },
        {
         "geometry": {
          "coordinates": [
           38.75,
           1.25
          ],
          "type": "Point"
         },
         "properties": {
          "YYYYMMDD": "2021-01-01",
          "t2m": 27.05
         },
         "type": "Feature"
        },
        {
         "geometry": {
          "coordinates": [
           39.25,
           1.25
          ],
          "type": "Point"
         },
         "properties": {
          "YYYYMMDD": "2021-01-01",
          "t2m": 27.38
         },
         "type": "Feature"
        },
        {
         "geometry": {
          "coordinates": [
           36.25,
           -1.75
          ],
          "type": "Point"
         },
         "properties": {
          "YYYYMMDD": "2021-01-02",
          "t2m": 23.82
         },
         "type": "Feature"
        },
        {
         "geometry": {
          "coordinates": [
           36.75,
           -1.75
          ],
          "type": "Point"
         },
         "properties": {
          "YYYYMMDD": "2021-01-02",
          "t2m": 21.23
         },
         "type": "Feature"
        },
        {
         "geometry": {
          "coordinates": [
           37.25,
           -1.75
          ],
          "type": "Point"
         },
         "properties": {
          "YYYYMMDD": "2021-01-02",
          "t2m": 21.27
         },
         "type": "Feature"
        },
        {
         "geometry": {
          "coordinates": [
           37.75,
           -1.75
          ],
          "type": "Point"
         },
         "properties": {
          "YYYYMMDD": "2021-01-02",
          "t2m": 22.77
         },
         "type": "Feature"
        },
        {
         "geometry": {
          "coordinates": [
           38.25,
           -1.75
          ],
          "type": "Point"
         },
         "properties": {
          "YYYYMMDD": "2021-01-02",
          "t2m": 24.93
         },
         "type": "Feature"
        },
        {
         "geometry": {
          "coordinates": [
           38.75,
           -1.75
          ],
          "type": "Point"
         },
         "properties": {
          "YYYYMMDD": "2021-01-02",
          "t2m": 27.26
         },
         "type": "Feature"
        },
        {
         "geometry": {
          "coordinates": [
           39.25,
           -1.75
          ],
          "type": "Point"
         },
         "properties": {
          "YYYYMMDD": "2021-01-02",
          "t2m": 28.49
         },
         "type": "Feature"
        },
        {
         "geometry": {
          "coordinates": [
           36.25,
           -1.25
          ],
          "type": "Point"
         },
         "properties": {
          "YYYYMMDD": "2021-01-02",
          "t2m": 20.16
         },
         "type": "Feature"
        },
        {
         "geometry": {
          "coordinates": [
           36.75,
           -1.25
          ],
          "type": "Point"
         },
         "properties": {
          "YYYYMMDD": "2021-01-02",
          "t2m": 19.64
         },
         "type": "Feature"
        },
        {
         "geometry": {
          "coordinates": [
           37.25,
           -1.25
          ],
          "type": "Point"
         },
         "properties": {
          "YYYYMMDD": "2021-01-02",
          "t2m": 20.81
         },
         "type": "Feature"
        },
        {
         "geometry": {
          "coordinates": [
           37.75,
           -1.25
          ],
          "type": "Point"
         },
         "properties": {
          "YYYYMMDD": "2021-01-02",
          "t2m": 22.6
         },
         "type": "Feature"
        },
        {
         "geometry": {
          "coordinates": [
           38.25,
           -1.25
          ],
          "type": "Point"
         },
         "properties": {
          "YYYYMMDD": "2021-01-02",
          "t2m": 24.57
         },
         "type": "Feature"
        },
        {
         "geometry": {
          "coordinates": [
           38.75,
           -1.25
          ],
          "type": "Point"
         },
         "properties": {
          "YYYYMMDD": "2021-01-02",
          "t2m": 26.89
         },
         "type": "Feature"
        },
        {
         "geometry": {
          "coordinates": [
           39.25,
           -1.25
          ],
          "type": "Point"
         },
         "properties": {
          "YYYYMMDD": "2021-01-02",
          "t2m": 28.28
         },
         "type": "Feature"
        },
        {
         "geometry": {
          "coordinates": [
           36.25,
           -0.75
          ],
          "type": "Point"
         },
         "properties": {
          "YYYYMMDD": "2021-01-02",
          "t2m": 16.25
         },
         "type": "Feature"
        },
        {
         "geometry": {
          "coordinates": [
           36.75,
           -0.75
          ],
          "type": "Point"
         },
         "properties": {
          "YYYYMMDD": "2021-01-02",
          "t2m": 17.12
         },
         "type": "Feature"
        },
        {
         "geometry": {
          "coordinates": [
           37.25,
           -0.75
          ],
          "type": "Point"
         },
         "properties": {
          "YYYYMMDD": "2021-01-02",
          "t2m": 19.5
         },
         "type": "Feature"
        },
        {
         "geometry": {
          "coordinates": [
           37.75,
           -0.75
          ],
          "type": "Point"
         },
         "properties": {
          "YYYYMMDD": "2021-01-02",
          "t2m": 22.15
         },
         "type": "Feature"
        },
        {
         "geometry": {
          "coordinates": [
           38.25,
           -0.75
          ],
          "type": "Point"
         },
         "properties": {
          "YYYYMMDD": "2021-01-02",
          "t2m": 24.47
         },
         "type": "Feature"
        },
        {
         "geometry": {
          "coordinates": [
           38.75,
           -0.75
          ],
          "type": "Point"
         },
         "properties": {
          "YYYYMMDD": "2021-01-02",
          "t2m": 26.43
         },
         "type": "Feature"
        },
        {
         "geometry": {
          "coordinates": [
           39.25,
           -0.75
          ],
          "type": "Point"
         },
         "properties": {
          "YYYYMMDD": "2021-01-02",
          "t2m": 27.95
         },
         "type": "Feature"
        },
        {
         "geometry": {
          "coordinates": [
           36.25,
           -0.25
          ],
          "type": "Point"
         },
         "properties": {
          "YYYYMMDD": "2021-01-02",
          "t2m": 15.59
         },
         "type": "Feature"
        },
        {
         "geometry": {
          "coordinates": [
           36.75,
           -0.25
          ],
          "type": "Point"
         },
         "properties": {
          "YYYYMMDD": "2021-01-02",
          "t2m": 16.08
         },
         "type": "Feature"
        },
        {
         "geometry": {
          "coordinates": [
           37.25,
           -0.25
          ],
          "type": "Point"
         },
         "properties": {
          "YYYYMMDD": "2021-01-02",
          "t2m": 17.4
         },
         "type": "Feature"
        },
        {
         "geometry": {
          "coordinates": [
           37.75,
           -0.25
          ],
          "type": "Point"
         },
         "properties": {
          "YYYYMMDD": "2021-01-02",
          "t2m": 20.65
         },
         "type": "Feature"
        },
        {
         "geometry": {
          "coordinates": [
           38.25,
           -0.25
          ],
          "type": "Point"
         },
         "properties": {
          "YYYYMMDD": "2021-01-02",
          "t2m": 24.75
         },
         "type": "Feature"
        },
        {
         "geometry": {
          "coordinates": [
           38.75,
           -0.25
          ],
          "type": "Point"
         },
         "properties": {
          "YYYYMMDD": "2021-01-02",
          "t2m": 26.32
         },
         "type": "Feature"
        },
        {
         "geometry": {
          "coordinates": [
           39.25,
           -0.25
          ],
          "type": "Point"
         },
         "properties": {
          "YYYYMMDD": "2021-01-02",
          "t2m": 27.83
         },
         "type": "Feature"
        },
        {
         "geometry": {
          "coordinates": [
           36.25,
           0.25
          ],
          "type": "Point"
         },
         "properties": {
          "YYYYMMDD": "2021-01-02",
          "t2m": 17.96
         },
         "type": "Feature"
        },
        {
         "geometry": {
          "coordinates": [
           36.75,
           0.25
          ],
          "type": "Point"
         },
         "properties": {
          "YYYYMMDD": "2021-01-02",
          "t2m": 17.27
         },
         "type": "Feature"
        },
        {
         "geometry": {
          "coordinates": [
           37.25,
           0.25
          ],
          "type": "Point"
         },
         "properties": {
          "YYYYMMDD": "2021-01-02",
          "t2m": 17.97
         },
         "type": "Feature"
        },
        {
         "geometry": {
          "coordinates": [
           37.75,
           0.25
          ],
          "type": "Point"
         },
         "properties": {
          "YYYYMMDD": "2021-01-02",
          "t2m": 20.89
         },
         "type": "Feature"
        },
        {
         "geometry": {
          "coordinates": [
           38.25,
           0.25
          ],
          "type": "Point"
         },
         "properties": {
          "YYYYMMDD": "2021-01-02",
          "t2m": 24.86
         },
         "type": "Feature"
        },
        {
         "geometry": {
          "coordinates": [
           38.75,
           0.25
          ],
          "type": "Point"
         },
         "properties": {
          "YYYYMMDD": "2021-01-02",
          "t2m": 26.69
         },
         "type": "Feature"
        },
        {
         "geometry": {
          "coordinates": [
           39.25,
           0.25
          ],
          "type": "Point"
         },
         "properties": {
          "YYYYMMDD": "2021-01-02",
          "t2m": 27.96
         },
         "type": "Feature"
        },
        {
         "geometry": {
          "coordinates": [
           36.25,
           0.75
          ],
          "type": "Point"
         },
         "properties": {
          "YYYYMMDD": "2021-01-02",
          "t2m": 20.71
         },
         "type": "Feature"
        },
        {
         "geometry": {
          "coordinates": [
           36.75,
           0.75
          ],
          "type": "Point"
         },
         "properties": {
          "YYYYMMDD": "2021-01-02",
          "t2m": 18.42
         },
         "type": "Feature"
        },
        {
         "geometry": {
          "coordinates": [
           37.25,
           0.75
          ],
          "type": "Point"
         },
         "properties": {
          "YYYYMMDD": "2021-01-02",
          "t2m": 19.97
         },
         "type": "Feature"
        },
        {
         "geometry": {
          "coordinates": [
           37.75,
           0.75
          ],
          "type": "Point"
         },
         "properties": {
          "YYYYMMDD": "2021-01-02",
          "t2m": 22.83
         },
         "type": "Feature"
        },
        {
         "geometry": {
          "coordinates": [
           38.25,
           0.75
          ],
          "type": "Point"
         },
         "properties": {
          "YYYYMMDD": "2021-01-02",
          "t2m": 25.5
         },
         "type": "Feature"
        },
        {
         "geometry": {
          "coordinates": [
           38.75,
           0.75
          ],
          "type": "Point"
         },
         "properties": {
          "YYYYMMDD": "2021-01-02",
          "t2m": 27.27
         },
         "type": "Feature"
        },
        {
         "geometry": {
          "coordinates": [
           39.25,
           0.75
          ],
          "type": "Point"
         },
         "properties": {
          "YYYYMMDD": "2021-01-02",
          "t2m": 28.09
         },
         "type": "Feature"
        },
        {
         "geometry": {
          "coordinates": [
           36.25,
           1.25
          ],
          "type": "Point"
         },
         "properties": {
          "YYYYMMDD": "2021-01-02",
          "t2m": 23.33
         },
         "type": "Feature"
        },
        {
         "geometry": {
          "coordinates": [
           36.75,
           1.25
          ],
          "type": "Point"
         },
         "properties": {
          "YYYYMMDD": "2021-01-02",
          "t2m": 20.29
         },
         "type": "Feature"
        },
        {
         "geometry": {
          "coordinates": [
           37.25,
           1.25
          ],
          "type": "Point"
         },
         "properties": {
          "YYYYMMDD": "2021-01-02",
          "t2m": 21.6
         },
         "type": "Feature"
        },
        {
         "geometry": {
          "coordinates": [
           37.75,
           1.25
          ],
          "type": "Point"
         },
         "properties": {
          "YYYYMMDD": "2021-01-02",
          "t2m": 24.3
         },
         "type": "Feature"
        },
        {
         "geometry": {
          "coordinates": [
           38.25,
           1.25
          ],
          "type": "Point"
         },
         "properties": {
          "YYYYMMDD": "2021-01-02",
          "t2m": 26.56
         },
         "type": "Feature"
        },
        {
         "geometry": {
          "coordinates": [
           38.75,
           1.25
          ],
          "type": "Point"
         },
         "properties": {
          "YYYYMMDD": "2021-01-02",
          "t2m": 27.51
         },
         "type": "Feature"
        },
        {
         "geometry": {
          "coordinates": [
           39.25,
           1.25
          ],
          "type": "Point"
         },
         "properties": {
          "YYYYMMDD": "2021-01-02",
          "t2m": 27.8
         },
         "type": "Feature"
        },
        {
         "geometry": {
          "coordinates": [
           36.25,
           -1.75
          ],
          "type": "Point"
         },
         "properties": {
          "YYYYMMDD": "2021-01-03",
          "t2m": 23.78
         },
         "type": "Feature"
        },
        {
         "geometry": {
          "coordinates": [
           36.75,
           -1.75
          ],
          "type": "Point"
         },
         "properties": {
          "YYYYMMDD": "2021-01-03",
          "t2m": 21.1
         },
         "type": "Feature"
        },
        {
         "geometry": {
          "coordinates": [
           37.25,
           -1.75
          ],
          "type": "Point"
         },
         "properties": {
          "YYYYMMDD": "2021-01-03",
          "t2m": 21.06
         },
         "type": "Feature"
        },
        {
         "geometry": {
          "coordinates": [
           37.75,
           -1.75
          ],
          "type": "Point"
         },
         "properties": {
          "YYYYMMDD": "2021-01-03",
          "t2m": 22.49
         },
         "type": "Feature"
        },
        {
         "geometry": {
          "coordinates": [
           38.25,
           -1.75
          ],
          "type": "Point"
         },
         "properties": {
          "YYYYMMDD": "2021-01-03",
          "t2m": 24.59
         },
         "type": "Feature"
        },
        {
         "geometry": {
          "coordinates": [
           38.75,
           -1.75
          ],
          "type": "Point"
         },
         "properties": {
          "YYYYMMDD": "2021-01-03",
          "t2m": 26.94
         },
         "type": "Feature"
        },
        {
         "geometry": {
          "coordinates": [
           39.25,
           -1.75
          ],
          "type": "Point"
         },
         "properties": {
          "YYYYMMDD": "2021-01-03",
          "t2m": 28.38
         },
         "type": "Feature"
        },
        {
         "geometry": {
          "coordinates": [
           36.25,
           -1.25
          ],
          "type": "Point"
         },
         "properties": {
          "YYYYMMDD": "2021-01-03",
          "t2m": 20.15
         },
         "type": "Feature"
        },
        {
         "geometry": {
          "coordinates": [
           36.75,
           -1.25
          ],
          "type": "Point"
         },
         "properties": {
          "YYYYMMDD": "2021-01-03",
          "t2m": 19.5
         },
         "type": "Feature"
        },
        {
         "geometry": {
          "coordinates": [
           37.25,
           -1.25
          ],
          "type": "Point"
         },
         "properties": {
          "YYYYMMDD": "2021-01-03",
          "t2m": 20.45
         },
         "type": "Feature"
        },
        {
         "geometry": {
          "coordinates": [
           37.75,
           -1.25
          ],
          "type": "Point"
         },
         "properties": {
          "YYYYMMDD": "2021-01-03",
          "t2m": 22.06
         },
         "type": "Feature"
        },
        {
         "geometry": {
          "coordinates": [
           38.25,
           -1.25
          ],
          "type": "Point"
         },
         "properties": {
          "YYYYMMDD": "2021-01-03",
          "t2m": 23.99
         },
         "type": "Feature"
        },
        {
         "geometry": {
          "coordinates": [
           38.75,
           -1.25
          ],
          "type": "Point"
         },
         "properties": {
          "YYYYMMDD": "2021-01-03",
          "t2m": 26.53
         },
         "type": "Feature"
        },
        {
         "geometry": {
          "coordinates": [
           39.25,
           -1.25
          ],
          "type": "Point"
         },
         "properties": {
          "YYYYMMDD": "2021-01-03",
          "t2m": 28.15
         },
         "type": "Feature"
        },
        {
         "geometry": {
          "coordinates": [
           36.25,
           -0.75
          ],
          "type": "Point"
         },
         "properties": {
          "YYYYMMDD": "2021-01-03",
          "t2m": 16.4
         },
         "type": "Feature"
        },
        {
         "geometry": {
          "coordinates": [
           36.75,
           -0.75
          ],
          "type": "Point"
         },
         "properties": {
          "YYYYMMDD": "2021-01-03",
          "t2m": 17.17
         },
         "type": "Feature"
        },
        {
         "geometry": {
          "coordinates": [
           37.25,
           -0.75
          ],
          "type": "Point"
         },
         "properties": {
          "YYYYMMDD": "2021-01-03",
          "t2m": 19.33
         },
         "type": "Feature"
        },
        {
         "geometry": {
          "coordinates": [
           37.75,
           -0.75
          ],
          "type": "Point"
         },
         "properties": {
          "YYYYMMDD": "2021-01-03",
          "t2m": 21.76
         },
         "type": "Feature"
        },
        {
         "geometry": {
          "coordinates": [
           38.25,
           -0.75
          ],
          "type": "Point"
         },
         "properties": {
          "YYYYMMDD": "2021-01-03",
          "t2m": 24
         },
         "type": "Feature"
        },
        {
         "geometry": {
          "coordinates": [
           38.75,
           -0.75
          ],
          "type": "Point"
         },
         "properties": {
          "YYYYMMDD": "2021-01-03",
          "t2m": 26.22
         },
         "type": "Feature"
        },
        {
         "geometry": {
          "coordinates": [
           39.25,
           -0.75
          ],
          "type": "Point"
         },
         "properties": {
          "YYYYMMDD": "2021-01-03",
          "t2m": 27.89
         },
         "type": "Feature"
        },
        {
         "geometry": {
          "coordinates": [
           36.25,
           -0.25
          ],
          "type": "Point"
         },
         "properties": {
          "YYYYMMDD": "2021-01-03",
          "t2m": 15.83
         },
         "type": "Feature"
        },
        {
         "geometry": {
          "coordinates": [
           36.75,
           -0.25
          ],
          "type": "Point"
         },
         "properties": {
          "YYYYMMDD": "2021-01-03",
          "t2m": 16.28
         },
         "type": "Feature"
        },
        {
         "geometry": {
          "coordinates": [
           37.25,
           -0.25
          ],
          "type": "Point"
         },
         "properties": {
          "YYYYMMDD": "2021-01-03",
          "t2m": 17.45
         },
         "type": "Feature"
        },
        {
         "geometry": {
          "coordinates": [
           37.75,
           -0.25
          ],
          "type": "Point"
         },
         "properties": {
          "YYYYMMDD": "2021-01-03",
          "t2m": 20.52
         },
         "type": "Feature"
        },
        {
         "geometry": {
          "coordinates": [
           38.25,
           -0.25
          ],
          "type": "Point"
         },
         "properties": {
          "YYYYMMDD": "2021-01-03",
          "t2m": 24.52
         },
         "type": "Feature"
        },
        {
         "geometry": {
          "coordinates": [
           38.75,
           -0.25
          ],
          "type": "Point"
         },
         "properties": {
          "YYYYMMDD": "2021-01-03",
          "t2m": 26.38
         },
         "type": "Feature"
        },
        {
         "geometry": {
          "coordinates": [
           39.25,
           -0.25
          ],
          "type": "Point"
         },
         "properties": {
          "YYYYMMDD": "2021-01-03",
          "t2m": 27.96
         },
         "type": "Feature"
        },
        {
         "geometry": {
          "coordinates": [
           36.25,
           0.25
          ],
          "type": "Point"
         },
         "properties": {
          "YYYYMMDD": "2021-01-03",
          "t2m": 18.18
         },
         "type": "Feature"
        },
        {
         "geometry": {
          "coordinates": [
           36.75,
           0.25
          ],
          "type": "Point"
         },
         "properties": {
          "YYYYMMDD": "2021-01-03",
          "t2m": 17.37
         },
         "type": "Feature"
        },
        {
         "geometry": {
          "coordinates": [
           37.25,
           0.25
          ],
          "type": "Point"
         },
         "properties": {
          "YYYYMMDD": "2021-01-03",
          "t2m": 18.01
         },
         "type": "Feature"
        },
        {
         "geometry": {
          "coordinates": [
           37.75,
           0.25
          ],
          "type": "Point"
         },
         "properties": {
          "YYYYMMDD": "2021-01-03",
          "t2m": 20.84
         },
         "type": "Feature"
        },
        {
         "geometry": {
          "coordinates": [
           38.25,
           0.25
          ],
          "type": "Point"
         },
         "properties": {
          "YYYYMMDD": "2021-01-03",
          "t2m": 24.78
         },
         "type": "Feature"
        },
        {
         "geometry": {
          "coordinates": [
           38.75,
           0.25
          ],
          "type": "Point"
         },
         "properties": {
          "YYYYMMDD": "2021-01-03",
          "t2m": 26.88
         },
         "type": "Feature"
        },
        {
         "geometry": {
          "coordinates": [
           39.25,
           0.25
          ],
          "type": "Point"
         },
         "properties": {
          "YYYYMMDD": "2021-01-03",
          "t2m": 28.22
         },
         "type": "Feature"
        },
        {
         "geometry": {
          "coordinates": [
           36.25,
           0.75
          ],
          "type": "Point"
         },
         "properties": {
          "YYYYMMDD": "2021-01-03",
          "t2m": 20.85
         },
         "type": "Feature"
        },
        {
         "geometry": {
          "coordinates": [
           36.75,
           0.75
          ],
          "type": "Point"
         },
         "properties": {
          "YYYYMMDD": "2021-01-03",
          "t2m": 18.52
         },
         "type": "Feature"
        },
        {
         "geometry": {
          "coordinates": [
           37.25,
           0.75
          ],
          "type": "Point"
         },
         "properties": {
          "YYYYMMDD": "2021-01-03",
          "t2m": 20.1
         },
         "type": "Feature"
        },
        {
         "geometry": {
          "coordinates": [
           37.75,
           0.75
          ],
          "type": "Point"
         },
         "properties": {
          "YYYYMMDD": "2021-01-03",
          "t2m": 23.01
         },
         "type": "Feature"
        },
        {
         "geometry": {
          "coordinates": [
           38.25,
           0.75
          ],
          "type": "Point"
         },
         "properties": {
          "YYYYMMDD": "2021-01-03",
          "t2m": 25.68
         },
         "type": "Feature"
        },
        {
         "geometry": {
          "coordinates": [
           38.75,
           0.75
          ],
          "type": "Point"
         },
         "properties": {
          "YYYYMMDD": "2021-01-03",
          "t2m": 27.56
         },
         "type": "Feature"
        },
        {
         "geometry": {
          "coordinates": [
           39.25,
           0.75
          ],
          "type": "Point"
         },
         "properties": {
          "YYYYMMDD": "2021-01-03",
          "t2m": 28.42
         },
         "type": "Feature"
        },
        {
         "geometry": {
          "coordinates": [
           36.25,
           1.25
          ],
          "type": "Point"
         },
         "properties": {
          "YYYYMMDD": "2021-01-03",
          "t2m": 23.55
         },
         "type": "Feature"
        },
        {
         "geometry": {
          "coordinates": [
           36.75,
           1.25
          ],
          "type": "Point"
         },
         "properties": {
          "YYYYMMDD": "2021-01-03",
          "t2m": 20.52
         },
         "type": "Feature"
        },
        {
         "geometry": {
          "coordinates": [
           37.25,
           1.25
          ],
          "type": "Point"
         },
         "properties": {
          "YYYYMMDD": "2021-01-03",
          "t2m": 21.97
         },
         "type": "Feature"
        },
        {
         "geometry": {
          "coordinates": [
           37.75,
           1.25
          ],
          "type": "Point"
         },
         "properties": {
          "YYYYMMDD": "2021-01-03",
          "t2m": 24.75
         },
         "type": "Feature"
        },
        {
         "geometry": {
          "coordinates": [
           38.25,
           1.25
          ],
          "type": "Point"
         },
         "properties": {
          "YYYYMMDD": "2021-01-03",
          "t2m": 26.97
         },
         "type": "Feature"
        },
        {
         "geometry": {
          "coordinates": [
           38.75,
           1.25
          ],
          "type": "Point"
         },
         "properties": {
          "YYYYMMDD": "2021-01-03",
          "t2m": 27.95
         },
         "type": "Feature"
        },
        {
         "geometry": {
          "coordinates": [
           39.25,
           1.25
          ],
          "type": "Point"
         },
         "properties": {
          "YYYYMMDD": "2021-01-03",
          "t2m": 28.24
         },
         "type": "Feature"
        },
        {
         "geometry": {
          "coordinates": [
           36.25,
           -1.75
          ],
          "type": "Point"
         },
         "properties": {
          "YYYYMMDD": "2021-01-04",
          "t2m": 23.56
         },
         "type": "Feature"
        },
        {
         "geometry": {
          "coordinates": [
           36.75,
           -1.75
          ],
          "type": "Point"
         },
         "properties": {
          "YYYYMMDD": "2021-01-04",
          "t2m": 20.65
         },
         "type": "Feature"
        },
        {
         "geometry": {
          "coordinates": [
           37.25,
           -1.75
          ],
          "type": "Point"
         },
         "properties": {
          "YYYYMMDD": "2021-01-04",
          "t2m": 20.36
         },
         "type": "Feature"
        },
        {
         "geometry": {
          "coordinates": [
           37.75,
           -1.75
          ],
          "type": "Point"
         },
         "properties": {
          "YYYYMMDD": "2021-01-04",
          "t2m": 21.82
         },
         "type": "Feature"
        },
        {
         "geometry": {
          "coordinates": [
           38.25,
           -1.75
          ],
          "type": "Point"
         },
         "properties": {
          "YYYYMMDD": "2021-01-04",
          "t2m": 24.12
         },
         "type": "Feature"
        },
        {
         "geometry": {
          "coordinates": [
           38.75,
           -1.75
          ],
          "type": "Point"
         },
         "properties": {
          "YYYYMMDD": "2021-01-04",
          "t2m": 26.76
         },
         "type": "Feature"
        },
        {
         "geometry": {
          "coordinates": [
           39.25,
           -1.75
          ],
          "type": "Point"
         },
         "properties": {
          "YYYYMMDD": "2021-01-04",
          "t2m": 28.38
         },
         "type": "Feature"
        },
        {
         "geometry": {
          "coordinates": [
           36.25,
           -1.25
          ],
          "type": "Point"
         },
         "properties": {
          "YYYYMMDD": "2021-01-04",
          "t2m": 19.79
         },
         "type": "Feature"
        },
        {
         "geometry": {
          "coordinates": [
           36.75,
           -1.25
          ],
          "type": "Point"
         },
         "properties": {
          "YYYYMMDD": "2021-01-04",
          "t2m": 18.88
         },
         "type": "Feature"
        },
        {
         "geometry": {
          "coordinates": [
           37.25,
           -1.25
          ],
          "type": "Point"
         },
         "properties": {
          "YYYYMMDD": "2021-01-04",
          "t2m": 19.93
         },
         "type": "Feature"
        },
        {
         "geometry": {
          "coordinates": [
           37.75,
           -1.25
          ],
          "type": "Point"
         },
         "properties": {
          "YYYYMMDD": "2021-01-04",
          "t2m": 21.87
         },
         "type": "Feature"
        },
        {
         "geometry": {
          "coordinates": [
           38.25,
           -1.25
          ],
          "type": "Point"
         },
         "properties": {
          "YYYYMMDD": "2021-01-04",
          "t2m": 24.1
         },
         "type": "Feature"
        },
        {
         "geometry": {
          "coordinates": [
           38.75,
           -1.25
          ],
          "type": "Point"
         },
         "properties": {
          "YYYYMMDD": "2021-01-04",
          "t2m": 26.71
         },
         "type": "Feature"
        },
        {
         "geometry": {
          "coordinates": [
           39.25,
           -1.25
          ],
          "type": "Point"
         },
         "properties": {
          "YYYYMMDD": "2021-01-04",
          "t2m": 28.26
         },
         "type": "Feature"
        },
        {
         "geometry": {
          "coordinates": [
           36.25,
           -0.75
          ],
          "type": "Point"
         },
         "properties": {
          "YYYYMMDD": "2021-01-04",
          "t2m": 15.89
         },
         "type": "Feature"
        },
        {
         "geometry": {
          "coordinates": [
           36.75,
           -0.75
          ],
          "type": "Point"
         },
         "properties": {
          "YYYYMMDD": "2021-01-04",
          "t2m": 16.67
         },
         "type": "Feature"
        },
        {
         "geometry": {
          "coordinates": [
           37.25,
           -0.75
          ],
          "type": "Point"
         },
         "properties": {
          "YYYYMMDD": "2021-01-04",
          "t2m": 19.08
         },
         "type": "Feature"
        },
        {
         "geometry": {
          "coordinates": [
           37.75,
           -0.75
          ],
          "type": "Point"
         },
         "properties": {
          "YYYYMMDD": "2021-01-04",
          "t2m": 21.91
         },
         "type": "Feature"
        },
        {
         "geometry": {
          "coordinates": [
           38.25,
           -0.75
          ],
          "type": "Point"
         },
         "properties": {
          "YYYYMMDD": "2021-01-04",
          "t2m": 24.49
         },
         "type": "Feature"
        },
        {
         "geometry": {
          "coordinates": [
           38.75,
           -0.75
          ],
          "type": "Point"
         },
         "properties": {
          "YYYYMMDD": "2021-01-04",
          "t2m": 26.73
         },
         "type": "Feature"
        },
        {
         "geometry": {
          "coordinates": [
           39.25,
           -0.75
          ],
          "type": "Point"
         },
         "properties": {
          "YYYYMMDD": "2021-01-04",
          "t2m": 28.31
         },
         "type": "Feature"
        },
        {
         "geometry": {
          "coordinates": [
           36.25,
           -0.25
          ],
          "type": "Point"
         },
         "properties": {
          "YYYYMMDD": "2021-01-04",
          "t2m": 15.31
         },
         "type": "Feature"
        },
        {
         "geometry": {
          "coordinates": [
           36.75,
           -0.25
          ],
          "type": "Point"
         },
         "properties": {
          "YYYYMMDD": "2021-01-04",
          "t2m": 15.77
         },
         "type": "Feature"
        },
        {
         "geometry": {
          "coordinates": [
           37.25,
           -0.25
          ],
          "type": "Point"
         },
         "properties": {
          "YYYYMMDD": "2021-01-04",
          "t2m": 17.09
         },
         "type": "Feature"
        },
        {
         "geometry": {
          "coordinates": [
           37.75,
           -0.25
          ],
          "type": "Point"
         },
         "properties": {
          "YYYYMMDD": "2021-01-04",
          "t2m": 20.57
         },
         "type": "Feature"
        },
        {
         "geometry": {
          "coordinates": [
           38.25,
           -0.25
          ],
          "type": "Point"
         },
         "properties": {
          "YYYYMMDD": "2021-01-04",
          "t2m": 25.05
         },
         "type": "Feature"
        },
        {
         "geometry": {
          "coordinates": [
           38.75,
           -0.25
          ],
          "type": "Point"
         },
         "properties": {
          "YYYYMMDD": "2021-01-04",
          "t2m": 27.1
         },
         "type": "Feature"
        },
        {
         "geometry": {
          "coordinates": [
           39.25,
           -0.25
          ],
          "type": "Point"
         },
         "properties": {
          "YYYYMMDD": "2021-01-04",
          "t2m": 28.69
         },
         "type": "Feature"
        },
        {
         "geometry": {
          "coordinates": [
           36.25,
           0.25
          ],
          "type": "Point"
         },
         "properties": {
          "YYYYMMDD": "2021-01-04",
          "t2m": 17.84
         },
         "type": "Feature"
        },
        {
         "geometry": {
          "coordinates": [
           36.75,
           0.25
          ],
          "type": "Point"
         },
         "properties": {
          "YYYYMMDD": "2021-01-04",
          "t2m": 16.89
         },
         "type": "Feature"
        },
        {
         "geometry": {
          "coordinates": [
           37.25,
           0.25
          ],
          "type": "Point"
         },
         "properties": {
          "YYYYMMDD": "2021-01-04",
          "t2m": 17.67
         },
         "type": "Feature"
        },
        {
         "geometry": {
          "coordinates": [
           37.75,
           0.25
          ],
          "type": "Point"
         },
         "properties": {
          "YYYYMMDD": "2021-01-04",
          "t2m": 20.97
         },
         "type": "Feature"
        },
        {
         "geometry": {
          "coordinates": [
           38.25,
           0.25
          ],
          "type": "Point"
         },
         "properties": {
          "YYYYMMDD": "2021-01-04",
          "t2m": 25.41
         },
         "type": "Feature"
        },
        {
         "geometry": {
          "coordinates": [
           38.75,
           0.25
          ],
          "type": "Point"
         },
         "properties": {
          "YYYYMMDD": "2021-01-04",
          "t2m": 27.63
         },
         "type": "Feature"
        },
        {
         "geometry": {
          "coordinates": [
           39.25,
           0.25
          ],
          "type": "Point"
         },
         "properties": {
          "YYYYMMDD": "2021-01-04",
          "t2m": 29.01
         },
         "type": "Feature"
        },
        {
         "geometry": {
          "coordinates": [
           36.25,
           0.75
          ],
          "type": "Point"
         },
         "properties": {
          "YYYYMMDD": "2021-01-04",
          "t2m": 20.77
         },
         "type": "Feature"
        },
        {
         "geometry": {
          "coordinates": [
           36.75,
           0.75
          ],
          "type": "Point"
         },
         "properties": {
          "YYYYMMDD": "2021-01-04",
          "t2m": 18.44
         },
         "type": "Feature"
        },
        {
         "geometry": {
          "coordinates": [
           37.25,
           0.75
          ],
          "type": "Point"
         },
         "properties": {
          "YYYYMMDD": "2021-01-04",
          "t2m": 20.25
         },
         "type": "Feature"
        },
        {
         "geometry": {
          "coordinates": [
           37.75,
           0.75
          ],
          "type": "Point"
         },
         "properties": {
          "YYYYMMDD": "2021-01-04",
          "t2m": 23.52
         },
         "type": "Feature"
        },
        {
         "geometry": {
          "coordinates": [
           38.25,
           0.75
          ],
          "type": "Point"
         },
         "properties": {
          "YYYYMMDD": "2021-01-04",
          "t2m": 26.44
         },
         "type": "Feature"
        },
        {
         "geometry": {
          "coordinates": [
           38.75,
           0.75
          ],
          "type": "Point"
         },
         "properties": {
          "YYYYMMDD": "2021-01-04",
          "t2m": 28.18
         },
         "type": "Feature"
        },
        {
         "geometry": {
          "coordinates": [
           39.25,
           0.75
          ],
          "type": "Point"
         },
         "properties": {
          "YYYYMMDD": "2021-01-04",
          "t2m": 28.92
         },
         "type": "Feature"
        },
        {
         "geometry": {
          "coordinates": [
           36.25,
           1.25
          ],
          "type": "Point"
         },
         "properties": {
          "YYYYMMDD": "2021-01-04",
          "t2m": 23.77
         },
         "type": "Feature"
        },
        {
         "geometry": {
          "coordinates": [
           36.75,
           1.25
          ],
          "type": "Point"
         },
         "properties": {
          "YYYYMMDD": "2021-01-04",
          "t2m": 20.88
         },
         "type": "Feature"
        },
        {
         "geometry": {
          "coordinates": [
           37.25,
           1.25
          ],
          "type": "Point"
         },
         "properties": {
          "YYYYMMDD": "2021-01-04",
          "t2m": 22.46
         },
         "type": "Feature"
        },
        {
         "geometry": {
          "coordinates": [
           37.75,
           1.25
          ],
          "type": "Point"
         },
         "properties": {
          "YYYYMMDD": "2021-01-04",
          "t2m": 25.39
         },
         "type": "Feature"
        },
        {
         "geometry": {
          "coordinates": [
           38.25,
           1.25
          ],
          "type": "Point"
         },
         "properties": {
          "YYYYMMDD": "2021-01-04",
          "t2m": 27.66
         },
         "type": "Feature"
        },
        {
         "geometry": {
          "coordinates": [
           38.75,
           1.25
          ],
          "type": "Point"
         },
         "properties": {
          "YYYYMMDD": "2021-01-04",
          "t2m": 28.43
         },
         "type": "Feature"
        },
        {
         "geometry": {
          "coordinates": [
           39.25,
           1.25
          ],
          "type": "Point"
         },
         "properties": {
          "YYYYMMDD": "2021-01-04",
          "t2m": 28.49
         },
         "type": "Feature"
        },
        {
         "geometry": {
          "coordinates": [
           36.25,
           -1.75
          ],
          "type": "Point"
         },
         "properties": {
          "YYYYMMDD": "2021-01-05",
          "t2m": 24.01
         },
         "type": "Feature"
        },
        {
         "geometry": {
          "coordinates": [
           36.75,
           -1.75
          ],
          "type": "Point"
         },
         "properties": {
          "YYYYMMDD": "2021-01-05",
          "t2m": 21.21
         },
         "type": "Feature"
        },
        {
         "geometry": {
          "coordinates": [
           37.25,
           -1.75
          ],
          "type": "Point"
         },
         "properties": {
          "YYYYMMDD": "2021-01-05",
          "t2m": 21.16
         },
         "type": "Feature"
        },
        {
         "geometry": {
          "coordinates": [
           37.75,
           -1.75
          ],
          "type": "Point"
         },
         "properties": {
          "YYYYMMDD": "2021-01-05",
          "t2m": 22.53
         },
         "type": "Feature"
        },
        {
         "geometry": {
          "coordinates": [
           38.25,
           -1.75
          ],
          "type": "Point"
         },
         "properties": {
          "YYYYMMDD": "2021-01-05",
          "t2m": 24.76
         },
         "type": "Feature"
        },
        {
         "geometry": {
          "coordinates": [
           38.75,
           -1.75
          ],
          "type": "Point"
         },
         "properties": {
          "YYYYMMDD": "2021-01-05",
          "t2m": 27.56
         },
         "type": "Feature"
        },
        {
         "geometry": {
          "coordinates": [
           39.25,
           -1.75
          ],
          "type": "Point"
         },
         "properties": {
          "YYYYMMDD": "2021-01-05",
          "t2m": 29.08
         },
         "type": "Feature"
        },
        {
         "geometry": {
          "coordinates": [
           36.25,
           -1.25
          ],
          "type": "Point"
         },
         "properties": {
          "YYYYMMDD": "2021-01-05",
          "t2m": 20.08
         },
         "type": "Feature"
        },
        {
         "geometry": {
          "coordinates": [
           36.75,
           -1.25
          ],
          "type": "Point"
         },
         "properties": {
          "YYYYMMDD": "2021-01-05",
          "t2m": 19.43
         },
         "type": "Feature"
        },
        {
         "geometry": {
          "coordinates": [
           37.25,
           -1.25
          ],
          "type": "Point"
         },
         "properties": {
          "YYYYMMDD": "2021-01-05",
          "t2m": 20.72
         },
         "type": "Feature"
        },
        {
         "geometry": {
          "coordinates": [
           37.75,
           -1.25
          ],
          "type": "Point"
         },
         "properties": {
          "YYYYMMDD": "2021-01-05",
          "t2m": 22.53
         },
         "type": "Feature"
        },
        {
         "geometry": {
          "coordinates": [
           38.25,
           -1.25
          ],
          "type": "Point"
         },
         "properties": {
          "YYYYMMDD": "2021-01-05",
          "t2m": 24.51
         },
         "type": "Feature"
        },
        {
         "geometry": {
          "coordinates": [
           38.75,
           -1.25
          ],
          "type": "Point"
         },
         "properties": {
          "YYYYMMDD": "2021-01-05",
          "t2m": 27.13
         },
         "type": "Feature"
        },
        {
         "geometry": {
          "coordinates": [
           39.25,
           -1.25
          ],
          "type": "Point"
         },
         "properties": {
          "YYYYMMDD": "2021-01-05",
          "t2m": 28.8
         },
         "type": "Feature"
        },
        {
         "geometry": {
          "coordinates": [
           36.25,
           -0.75
          ],
          "type": "Point"
         },
         "properties": {
          "YYYYMMDD": "2021-01-05",
          "t2m": 15.94
         },
         "type": "Feature"
        },
        {
         "geometry": {
          "coordinates": [
           36.75,
           -0.75
          ],
          "type": "Point"
         },
         "properties": {
          "YYYYMMDD": "2021-01-05",
          "t2m": 16.91
         },
         "type": "Feature"
        },
        {
         "geometry": {
          "coordinates": [
           37.25,
           -0.75
          ],
          "type": "Point"
         },
         "properties": {
          "YYYYMMDD": "2021-01-05",
          "t2m": 19.56
         },
         "type": "Feature"
        },
        {
         "geometry": {
          "coordinates": [
           37.75,
           -0.75
          ],
          "type": "Point"
         },
         "properties": {
          "YYYYMMDD": "2021-01-05",
          "t2m": 22.32
         },
         "type": "Feature"
        },
        {
         "geometry": {
          "coordinates": [
           38.25,
           -0.75
          ],
          "type": "Point"
         },
         "properties": {
          "YYYYMMDD": "2021-01-05",
          "t2m": 24.64
         },
         "type": "Feature"
        },
        {
         "geometry": {
          "coordinates": [
           38.75,
           -0.75
          ],
          "type": "Point"
         },
         "properties": {
          "YYYYMMDD": "2021-01-05",
          "t2m": 26.76
         },
         "type": "Feature"
        },
        {
         "geometry": {
          "coordinates": [
           39.25,
           -0.75
          ],
          "type": "Point"
         },
         "properties": {
          "YYYYMMDD": "2021-01-05",
          "t2m": 28.47
         },
         "type": "Feature"
        },
        {
         "geometry": {
          "coordinates": [
           36.25,
           -0.25
          ],
          "type": "Point"
         },
         "properties": {
          "YYYYMMDD": "2021-01-05",
          "t2m": 15.31
         },
         "type": "Feature"
        },
        {
         "geometry": {
          "coordinates": [
           36.75,
           -0.25
          ],
          "type": "Point"
         },
         "properties": {
          "YYYYMMDD": "2021-01-05",
          "t2m": 15.87
         },
         "type": "Feature"
        },
        {
         "geometry": {
          "coordinates": [
           37.25,
           -0.25
          ],
          "type": "Point"
         },
         "properties": {
          "YYYYMMDD": "2021-01-05",
          "t2m": 17.41
         },
         "type": "Feature"
        },
        {
         "geometry": {
          "coordinates": [
           37.75,
           -0.25
          ],
          "type": "Point"
         },
         "properties": {
          "YYYYMMDD": "2021-01-05",
          "t2m": 20.84
         },
         "type": "Feature"
        },
        {
         "geometry": {
          "coordinates": [
           38.25,
           -0.25
          ],
          "type": "Point"
         },
         "properties": {
          "YYYYMMDD": "2021-01-05",
          "t2m": 25.08
         },
         "type": "Feature"
        },
        {
         "geometry": {
          "coordinates": [
           38.75,
           -0.25
          ],
          "type": "Point"
         },
         "properties": {
          "YYYYMMDD": "2021-01-05",
          "t2m": 26.89
         },
         "type": "Feature"
        },
        {
         "geometry": {
          "coordinates": [
           39.25,
           -0.25
          ],
          "type": "Point"
         },
         "properties": {
          "YYYYMMDD": "2021-01-05",
          "t2m": 28.62
         },
         "type": "Feature"
        },
        {
         "geometry": {
          "coordinates": [
           36.25,
           0.25
          ],
          "type": "Point"
         },
         "properties": {
          "YYYYMMDD": "2021-01-05",
          "t2m": 17.92
         },
         "type": "Feature"
        },
        {
         "geometry": {
          "coordinates": [
           36.75,
           0.25
          ],
          "type": "Point"
         },
         "properties": {
          "YYYYMMDD": "2021-01-05",
          "t2m": 16.9
         },
         "type": "Feature"
        },
        {
         "geometry": {
          "coordinates": [
           37.25,
           0.25
          ],
          "type": "Point"
         },
         "properties": {
          "YYYYMMDD": "2021-01-05",
          "t2m": 17.83
         },
         "type": "Feature"
        },
        {
         "geometry": {
          "coordinates": [
           37.75,
           0.25
          ],
          "type": "Point"
         },
         "properties": {
          "YYYYMMDD": "2021-01-05",
          "t2m": 21.05
         },
         "type": "Feature"
        },
        {
         "geometry": {
          "coordinates": [
           38.25,
           0.25
          ],
          "type": "Point"
         },
         "properties": {
          "YYYYMMDD": "2021-01-05",
          "t2m": 25.25
         },
         "type": "Feature"
        },
        {
         "geometry": {
          "coordinates": [
           38.75,
           0.25
          ],
          "type": "Point"
         },
         "properties": {
          "YYYYMMDD": "2021-01-05",
          "t2m": 27.39
         },
         "type": "Feature"
        },
        {
         "geometry": {
          "coordinates": [
           39.25,
           0.25
          ],
          "type": "Point"
         },
         "properties": {
          "YYYYMMDD": "2021-01-05",
          "t2m": 28.96
         },
         "type": "Feature"
        },
        {
         "geometry": {
          "coordinates": [
           36.25,
           0.75
          ],
          "type": "Point"
         },
         "properties": {
          "YYYYMMDD": "2021-01-05",
          "t2m": 20.91
         },
         "type": "Feature"
        },
        {
         "geometry": {
          "coordinates": [
           36.75,
           0.75
          ],
          "type": "Point"
         },
         "properties": {
          "YYYYMMDD": "2021-01-05",
          "t2m": 18.22
         },
         "type": "Feature"
        },
        {
         "geometry": {
          "coordinates": [
           37.25,
           0.75
          ],
          "type": "Point"
         },
         "properties": {
          "YYYYMMDD": "2021-01-05",
          "t2m": 19.85
         },
         "type": "Feature"
        },
        {
         "geometry": {
          "coordinates": [
           37.75,
           0.75
          ],
          "type": "Point"
         },
         "properties": {
          "YYYYMMDD": "2021-01-05",
          "t2m": 22.96
         },
         "type": "Feature"
        },
        {
         "geometry": {
          "coordinates": [
           38.25,
           0.75
          ],
          "type": "Point"
         },
         "properties": {
          "YYYYMMDD": "2021-01-05",
          "t2m": 25.8
         },
         "type": "Feature"
        },
        {
         "geometry": {
          "coordinates": [
           38.75,
           0.75
          ],
          "type": "Point"
         },
         "properties": {
          "YYYYMMDD": "2021-01-05",
          "t2m": 27.93
         },
         "type": "Feature"
        },
        {
         "geometry": {
          "coordinates": [
           39.25,
           0.75
          ],
          "type": "Point"
         },
         "properties": {
          "YYYYMMDD": "2021-01-05",
          "t2m": 28.95
         },
         "type": "Feature"
        },
        {
         "geometry": {
          "coordinates": [
           36.25,
           1.25
          ],
          "type": "Point"
         },
         "properties": {
          "YYYYMMDD": "2021-01-05",
          "t2m": 23.8
         },
         "type": "Feature"
        },
        {
         "geometry": {
          "coordinates": [
           36.75,
           1.25
          ],
          "type": "Point"
         },
         "properties": {
          "YYYYMMDD": "2021-01-05",
          "t2m": 20.53
         },
         "type": "Feature"
        },
        {
         "geometry": {
          "coordinates": [
           37.25,
           1.25
          ],
          "type": "Point"
         },
         "properties": {
          "YYYYMMDD": "2021-01-05",
          "t2m": 21.78
         },
         "type": "Feature"
        },
        {
         "geometry": {
          "coordinates": [
           37.75,
           1.25
          ],
          "type": "Point"
         },
         "properties": {
          "YYYYMMDD": "2021-01-05",
          "t2m": 24.56
         },
         "type": "Feature"
        },
        {
         "geometry": {
          "coordinates": [
           38.25,
           1.25
          ],
          "type": "Point"
         },
         "properties": {
          "YYYYMMDD": "2021-01-05",
          "t2m": 26.94
         },
         "type": "Feature"
        },
        {
         "geometry": {
          "coordinates": [
           38.75,
           1.25
          ],
          "type": "Point"
         },
         "properties": {
          "YYYYMMDD": "2021-01-05",
          "t2m": 28.22
         },
         "type": "Feature"
        },
        {
         "geometry": {
          "coordinates": [
           39.25,
           1.25
          ],
          "type": "Point"
         },
         "properties": {
          "YYYYMMDD": "2021-01-05",
          "t2m": 28.54
         },
         "type": "Feature"
        },
        {
         "geometry": {
          "coordinates": [
           36.25,
           -1.75
          ],
          "type": "Point"
         },
         "properties": {
          "YYYYMMDD": "2021-01-06",
          "t2m": 24.55
         },
         "type": "Feature"
        },
        {
         "geometry": {
          "coordinates": [
           36.75,
           -1.75
          ],
          "type": "Point"
         },
         "properties": {
          "YYYYMMDD": "2021-01-06",
          "t2m": 21.33
         },
         "type": "Feature"
        },
        {
         "geometry": {
          "coordinates": [
           37.25,
           -1.75
          ],
          "type": "Point"
         },
         "properties": {
          "YYYYMMDD": "2021-01-06",
          "t2m": 21.18
         },
         "type": "Feature"
        },
        {
         "geometry": {
          "coordinates": [
           37.75,
           -1.75
          ],
          "type": "Point"
         },
         "properties": {
          "YYYYMMDD": "2021-01-06",
          "t2m": 22.72
         },
         "type": "Feature"
        },
        {
         "geometry": {
          "coordinates": [
           38.25,
           -1.75
          ],
          "type": "Point"
         },
         "properties": {
          "YYYYMMDD": "2021-01-06",
          "t2m": 24.9
         },
         "type": "Feature"
        },
        {
         "geometry": {
          "coordinates": [
           38.75,
           -1.75
          ],
          "type": "Point"
         },
         "properties": {
          "YYYYMMDD": "2021-01-06",
          "t2m": 27.43
         },
         "type": "Feature"
        },
        {
         "geometry": {
          "coordinates": [
           39.25,
           -1.75
          ],
          "type": "Point"
         },
         "properties": {
          "YYYYMMDD": "2021-01-06",
          "t2m": 28.96
         },
         "type": "Feature"
        },
        {
         "geometry": {
          "coordinates": [
           36.25,
           -1.25
          ],
          "type": "Point"
         },
         "properties": {
          "YYYYMMDD": "2021-01-06",
          "t2m": 20.39
         },
         "type": "Feature"
        },
        {
         "geometry": {
          "coordinates": [
           36.75,
           -1.25
          ],
          "type": "Point"
         },
         "properties": {
          "YYYYMMDD": "2021-01-06",
          "t2m": 19.66
         },
         "type": "Feature"
        },
        {
         "geometry": {
          "coordinates": [
           37.25,
           -1.25
          ],
          "type": "Point"
         },
         "properties": {
          "YYYYMMDD": "2021-01-06",
          "t2m": 20.67
         },
         "type": "Feature"
        },
        {
         "geometry": {
          "coordinates": [
           37.75,
           -1.25
          ],
          "type": "Point"
         },
         "properties": {
          "YYYYMMDD": "2021-01-06",
          "t2m": 22.4
         },
         "type": "Feature"
        },
        {
         "geometry": {
          "coordinates": [
           38.25,
           -1.25
          ],
          "type": "Point"
         },
         "properties": {
          "YYYYMMDD": "2021-01-06",
          "t2m": 24.41
         },
         "type": "Feature"
        },
        {
         "geometry": {
          "coordinates": [
           38.75,
           -1.25
          ],
          "type": "Point"
         },
         "properties": {
          "YYYYMMDD": "2021-01-06",
          "t2m": 27.09
         },
         "type": "Feature"
        },
        {
         "geometry": {
          "coordinates": [
           39.25,
           -1.25
          ],
          "type": "Point"
         },
         "properties": {
          "YYYYMMDD": "2021-01-06",
          "t2m": 28.66
         },
         "type": "Feature"
        },
        {
         "geometry": {
          "coordinates": [
           36.25,
           -0.75
          ],
          "type": "Point"
         },
         "properties": {
          "YYYYMMDD": "2021-01-06",
          "t2m": 16.15
         },
         "type": "Feature"
        },
        {
         "geometry": {
          "coordinates": [
           36.75,
           -0.75
          ],
          "type": "Point"
         },
         "properties": {
          "YYYYMMDD": "2021-01-06",
          "t2m": 17.07
         },
         "type": "Feature"
        },
        {
         "geometry": {
          "coordinates": [
           37.25,
           -0.75
          ],
          "type": "Point"
         },
         "properties": {
          "YYYYMMDD": "2021-01-06",
          "t2m": 19.42
         },
         "type": "Feature"
        },
        {
         "geometry": {
          "coordinates": [
           37.75,
           -0.75
          ],
          "type": "Point"
         },
         "properties": {
          "YYYYMMDD": "2021-01-06",
          "t2m": 22.04
         },
         "type": "Feature"
        },
        {
         "geometry": {
          "coordinates": [
           38.25,
           -0.75
          ],
          "type": "Point"
         },
         "properties": {
          "YYYYMMDD": "2021-01-06",
          "t2m": 24.34
         },
         "type": "Feature"
        },
        {
         "geometry": {
          "coordinates": [
           38.75,
           -0.75
          ],
          "type": "Point"
         },
         "properties": {
          "YYYYMMDD": "2021-01-06",
          "t2m": 26.68
         },
         "type": "Feature"
        },
        {
         "geometry": {
          "coordinates": [
           39.25,
           -0.75
          ],
          "type": "Point"
         },
         "properties": {
          "YYYYMMDD": "2021-01-06",
          "t2m": 28.2
         },
         "type": "Feature"
        },
        {
         "geometry": {
          "coordinates": [
           36.25,
           -0.25
          ],
          "type": "Point"
         },
         "properties": {
          "YYYYMMDD": "2021-01-06",
          "t2m": 15.45
         },
         "type": "Feature"
        },
        {
         "geometry": {
          "coordinates": [
           36.75,
           -0.25
          ],
          "type": "Point"
         },
         "properties": {
          "YYYYMMDD": "2021-01-06",
          "t2m": 15.77
         },
         "type": "Feature"
        },
        {
         "geometry": {
          "coordinates": [
           37.25,
           -0.25
          ],
          "type": "Point"
         },
         "properties": {
          "YYYYMMDD": "2021-01-06",
          "t2m": 17.12
         },
         "type": "Feature"
        },
        {
         "geometry": {
          "coordinates": [
           37.75,
           -0.25
          ],
          "type": "Point"
         },
         "properties": {
          "YYYYMMDD": "2021-01-06",
          "t2m": 20.53
         },
         "type": "Feature"
        },
        {
         "geometry": {
          "coordinates": [
           38.25,
           -0.25
          ],
          "type": "Point"
         },
         "properties": {
          "YYYYMMDD": "2021-01-06",
          "t2m": 24.75
         },
         "type": "Feature"
        },
        {
         "geometry": {
          "coordinates": [
           38.75,
           -0.25
          ],
          "type": "Point"
         },
         "properties": {
          "YYYYMMDD": "2021-01-06",
          "t2m": 26.7
         },
         "type": "Feature"
        },
        {
         "geometry": {
          "coordinates": [
           39.25,
           -0.25
          ],
          "type": "Point"
         },
         "properties": {
          "YYYYMMDD": "2021-01-06",
          "t2m": 28.16
         },
         "type": "Feature"
        },
        {
         "geometry": {
          "coordinates": [
           36.25,
           0.25
          ],
          "type": "Point"
         },
         "properties": {
          "YYYYMMDD": "2021-01-06",
          "t2m": 17.99
         },
         "type": "Feature"
        },
        {
         "geometry": {
          "coordinates": [
           36.75,
           0.25
          ],
          "type": "Point"
         },
         "properties": {
          "YYYYMMDD": "2021-01-06",
          "t2m": 16.79
         },
         "type": "Feature"
        },
        {
         "geometry": {
          "coordinates": [
           37.25,
           0.25
          ],
          "type": "Point"
         },
         "properties": {
          "YYYYMMDD": "2021-01-06",
          "t2m": 17.57
         },
         "type": "Feature"
        },
        {
         "geometry": {
          "coordinates": [
           37.75,
           0.25
          ],
          "type": "Point"
         },
         "properties": {
          "YYYYMMDD": "2021-01-06",
          "t2m": 20.9
         },
         "type": "Feature"
        },
        {
         "geometry": {
          "coordinates": [
           38.25,
           0.25
          ],
          "type": "Point"
         },
         "properties": {
          "YYYYMMDD": "2021-01-06",
          "t2m": 25.2
         },
         "type": "Feature"
        },
        {
         "geometry": {
          "coordinates": [
           38.75,
           0.25
          ],
          "type": "Point"
         },
         "properties": {
          "YYYYMMDD": "2021-01-06",
          "t2m": 27.09
         },
         "type": "Feature"
        },
        {
         "geometry": {
          "coordinates": [
           39.25,
           0.25
          ],
          "type": "Point"
         },
         "properties": {
          "YYYYMMDD": "2021-01-06",
          "t2m": 28.35
         },
         "type": "Feature"
        },
        {
         "geometry": {
          "coordinates": [
           36.25,
           0.75
          ],
          "type": "Point"
         },
         "properties": {
          "YYYYMMDD": "2021-01-06",
          "t2m": 20.92
         },
         "type": "Feature"
        },
        {
         "geometry": {
          "coordinates": [
           36.75,
           0.75
          ],
          "type": "Point"
         },
         "properties": {
          "YYYYMMDD": "2021-01-06",
          "t2m": 18.22
         },
         "type": "Feature"
        },
        {
         "geometry": {
          "coordinates": [
           37.25,
           0.75
          ],
          "type": "Point"
         },
         "properties": {
          "YYYYMMDD": "2021-01-06",
          "t2m": 20
         },
         "type": "Feature"
        },
        {
         "geometry": {
          "coordinates": [
           37.75,
           0.75
          ],
          "type": "Point"
         },
         "properties": {
          "YYYYMMDD": "2021-01-06",
          "t2m": 23.24
         },
         "type": "Feature"
        },
        {
         "geometry": {
          "coordinates": [
           38.25,
           0.75
          ],
          "type": "Point"
         },
         "properties": {
          "YYYYMMDD": "2021-01-06",
          "t2m": 25.96
         },
         "type": "Feature"
        },
        {
         "geometry": {
          "coordinates": [
           38.75,
           0.75
          ],
          "type": "Point"
         },
         "properties": {
          "YYYYMMDD": "2021-01-06",
          "t2m": 27.42
         },
         "type": "Feature"
        },
        {
         "geometry": {
          "coordinates": [
           39.25,
           0.75
          ],
          "type": "Point"
         },
         "properties": {
          "YYYYMMDD": "2021-01-06",
          "t2m": 28.17
         },
         "type": "Feature"
        },
        {
         "geometry": {
          "coordinates": [
           36.25,
           1.25
          ],
          "type": "Point"
         },
         "properties": {
          "YYYYMMDD": "2021-01-06",
          "t2m": 23.76
         },
         "type": "Feature"
        },
        {
         "geometry": {
          "coordinates": [
           36.75,
           1.25
          ],
          "type": "Point"
         },
         "properties": {
          "YYYYMMDD": "2021-01-06",
          "t2m": 20.58
         },
         "type": "Feature"
        },
        {
         "geometry": {
          "coordinates": [
           37.25,
           1.25
          ],
          "type": "Point"
         },
         "properties": {
          "YYYYMMDD": "2021-01-06",
          "t2m": 22.08
         },
         "type": "Feature"
        },
        {
         "geometry": {
          "coordinates": [
           37.75,
           1.25
          ],
          "type": "Point"
         },
         "properties": {
          "YYYYMMDD": "2021-01-06",
          "t2m": 24.88
         },
         "type": "Feature"
        },
        {
         "geometry": {
          "coordinates": [
           38.25,
           1.25
          ],
          "type": "Point"
         },
         "properties": {
          "YYYYMMDD": "2021-01-06",
          "t2m": 26.92
         },
         "type": "Feature"
        },
        {
         "geometry": {
          "coordinates": [
           38.75,
           1.25
          ],
          "type": "Point"
         },
         "properties": {
          "YYYYMMDD": "2021-01-06",
          "t2m": 27.65
         },
         "type": "Feature"
        },
        {
         "geometry": {
          "coordinates": [
           39.25,
           1.25
          ],
          "type": "Point"
         },
         "properties": {
          "YYYYMMDD": "2021-01-06",
          "t2m": 27.8
         },
         "type": "Feature"
        },
        {
         "geometry": {
          "coordinates": [
           36.25,
           -1.75
          ],
          "type": "Point"
         },
         "properties": {
          "YYYYMMDD": "2021-01-07",
          "t2m": 25.09
         },
         "type": "Feature"
        },
        {
         "geometry": {
          "coordinates": [
           36.75,
           -1.75
          ],
          "type": "Point"
         },
         "properties": {
          "YYYYMMDD": "2021-01-07",
          "t2m": 21.6
         },
         "type": "Feature"
        },
        {
         "geometry": {
          "coordinates": [
           37.25,
           -1.75
          ],
          "type": "Point"
         },
         "properties": {
          "YYYYMMDD": "2021-01-07",
          "t2m": 21.22
         },
         "type": "Feature"
        },
        {
         "geometry": {
          "coordinates": [
           37.75,
           -1.75
          ],
          "type": "Point"
         },
         "properties": {
          "YYYYMMDD": "2021-01-07",
          "t2m": 22.43
         },
         "type": "Feature"
        },
        {
         "geometry": {
          "coordinates": [
           38.25,
           -1.75
          ],
          "type": "Point"
         },
         "properties": {
          "YYYYMMDD": "2021-01-07",
          "t2m": 24.39
         },
         "type": "Feature"
        },
        {
         "geometry": {
          "coordinates": [
           38.75,
           -1.75
          ],
          "type": "Point"
         },
         "properties": {
          "YYYYMMDD": "2021-01-07",
          "t2m": 27.02
         },
         "type": "Feature"
        },
        {
         "geometry": {
          "coordinates": [
           39.25,
           -1.75
          ],
          "type": "Point"
         },
         "properties": {
          "YYYYMMDD": "2021-01-07",
          "t2m": 28.78
         },
         "type": "Feature"
        },
        {
         "geometry": {
          "coordinates": [
           36.25,
           -1.25
          ],
          "type": "Point"
         },
         "properties": {
          "YYYYMMDD": "2021-01-07",
          "t2m": 20.89
         },
         "type": "Feature"
        },
        {
         "geometry": {
          "coordinates": [
           36.75,
           -1.25
          ],
          "type": "Point"
         },
         "properties": {
          "YYYYMMDD": "2021-01-07",
          "t2m": 19.73
         },
         "type": "Feature"
        },
        {
         "geometry": {
          "coordinates": [
           37.25,
           -1.25
          ],
          "type": "Point"
         },
         "properties": {
          "YYYYMMDD": "2021-01-07",
          "t2m": 20.65
         },
         "type": "Feature"
        },
        {
         "geometry": {
          "coordinates": [
           37.75,
           -1.25
          ],
          "type": "Point"
         },
         "properties": {
          "YYYYMMDD": "2021-01-07",
          "t2m": 22.24
         },
         "type": "Feature"
        },
        {
         "geometry": {
          "coordinates": [
           38.25,
           -1.25
          ],
          "type": "Point"
         },
         "properties": {
          "YYYYMMDD": "2021-01-07",
          "t2m": 24.09
         },
         "type": "Feature"
        },
        {
         "geometry": {
          "coordinates": [
           38.75,
           -1.25
          ],
          "type": "Point"
         },
         "properties": {
          "YYYYMMDD": "2021-01-07",
          "t2m": 26.8
         },
         "type": "Feature"
        },
        {
         "geometry": {
          "coordinates": [
           39.25,
           -1.25
          ],
          "type": "Point"
         },
         "properties": {
          "YYYYMMDD": "2021-01-07",
          "t2m": 28.59
         },
         "type": "Feature"
        },
        {
         "geometry": {
          "coordinates": [
           36.25,
           -0.75
          ],
          "type": "Point"
         },
         "properties": {
          "YYYYMMDD": "2021-01-07",
          "t2m": 16.33
         },
         "type": "Feature"
        },
        {
         "geometry": {
          "coordinates": [
           36.75,
           -0.75
          ],
          "type": "Point"
         },
         "properties": {
          "YYYYMMDD": "2021-01-07",
          "t2m": 16.97
         },
         "type": "Feature"
        },
        {
         "geometry": {
          "coordinates": [
           37.25,
           -0.75
          ],
          "type": "Point"
         },
         "properties": {
          "YYYYMMDD": "2021-01-07",
          "t2m": 19.37
         },
         "type": "Feature"
        },
        {
         "geometry": {
          "coordinates": [
           37.75,
           -0.75
          ],
          "type": "Point"
         },
         "properties": {
          "YYYYMMDD": "2021-01-07",
          "t2m": 21.89
         },
         "type": "Feature"
        },
        {
         "geometry": {
          "coordinates": [
           38.25,
           -0.75
          ],
          "type": "Point"
         },
         "properties": {
          "YYYYMMDD": "2021-01-07",
          "t2m": 24.05
         },
         "type": "Feature"
        },
        {
         "geometry": {
          "coordinates": [
           38.75,
           -0.75
          ],
          "type": "Point"
         },
         "properties": {
          "YYYYMMDD": "2021-01-07",
          "t2m": 26.45
         },
         "type": "Feature"
        },
        {
         "geometry": {
          "coordinates": [
           39.25,
           -0.75
          ],
          "type": "Point"
         },
         "properties": {
          "YYYYMMDD": "2021-01-07",
          "t2m": 28.1
         },
         "type": "Feature"
        },
        {
         "geometry": {
          "coordinates": [
           36.25,
           -0.25
          ],
          "type": "Point"
         },
         "properties": {
          "YYYYMMDD": "2021-01-07",
          "t2m": 15.35
         },
         "type": "Feature"
        },
        {
         "geometry": {
          "coordinates": [
           36.75,
           -0.25
          ],
          "type": "Point"
         },
         "properties": {
          "YYYYMMDD": "2021-01-07",
          "t2m": 15.69
         },
         "type": "Feature"
        },
        {
         "geometry": {
          "coordinates": [
           37.25,
           -0.25
          ],
          "type": "Point"
         },
         "properties": {
          "YYYYMMDD": "2021-01-07",
          "t2m": 17.05
         },
         "type": "Feature"
        },
        {
         "geometry": {
          "coordinates": [
           37.75,
           -0.25
          ],
          "type": "Point"
         },
         "properties": {
          "YYYYMMDD": "2021-01-07",
          "t2m": 20.31
         },
         "type": "Feature"
        },
        {
         "geometry": {
          "coordinates": [
           38.25,
           -0.25
          ],
          "type": "Point"
         },
         "properties": {
          "YYYYMMDD": "2021-01-07",
          "t2m": 24.43
         },
         "type": "Feature"
        },
        {
         "geometry": {
          "coordinates": [
           38.75,
           -0.25
          ],
          "type": "Point"
         },
         "properties": {
          "YYYYMMDD": "2021-01-07",
          "t2m": 26.44
         },
         "type": "Feature"
        },
        {
         "geometry": {
          "coordinates": [
           39.25,
           -0.25
          ],
          "type": "Point"
         },
         "properties": {
          "YYYYMMDD": "2021-01-07",
          "t2m": 27.87
         },
         "type": "Feature"
        },
        {
         "geometry": {
          "coordinates": [
           36.25,
           0.25
          ],
          "type": "Point"
         },
         "properties": {
          "YYYYMMDD": "2021-01-07",
          "t2m": 17.82
         },
         "type": "Feature"
        },
        {
         "geometry": {
          "coordinates": [
           36.75,
           0.25
          ],
          "type": "Point"
         },
         "properties": {
          "YYYYMMDD": "2021-01-07",
          "t2m": 16.76
         },
         "type": "Feature"
        },
        {
         "geometry": {
          "coordinates": [
           37.25,
           0.25
          ],
          "type": "Point"
         },
         "properties": {
          "YYYYMMDD": "2021-01-07",
          "t2m": 17.56
         },
         "type": "Feature"
        },
        {
         "geometry": {
          "coordinates": [
           37.75,
           0.25
          ],
          "type": "Point"
         },
         "properties": {
          "YYYYMMDD": "2021-01-07",
          "t2m": 20.76
         },
         "type": "Feature"
        },
        {
         "geometry": {
          "coordinates": [
           38.25,
           0.25
          ],
          "type": "Point"
         },
         "properties": {
          "YYYYMMDD": "2021-01-07",
          "t2m": 24.97
         },
         "type": "Feature"
        },
        {
         "geometry": {
          "coordinates": [
           38.75,
           0.25
          ],
          "type": "Point"
         },
         "properties": {
          "YYYYMMDD": "2021-01-07",
          "t2m": 26.85
         },
         "type": "Feature"
        },
        {
         "geometry": {
          "coordinates": [
           39.25,
           0.25
          ],
          "type": "Point"
         },
         "properties": {
          "YYYYMMDD": "2021-01-07",
          "t2m": 27.94
         },
         "type": "Feature"
        },
        {
         "geometry": {
          "coordinates": [
           36.25,
           0.75
          ],
          "type": "Point"
         },
         "properties": {
          "YYYYMMDD": "2021-01-07",
          "t2m": 20.84
         },
         "type": "Feature"
        },
        {
         "geometry": {
          "coordinates": [
           36.75,
           0.75
          ],
          "type": "Point"
         },
         "properties": {
          "YYYYMMDD": "2021-01-07",
          "t2m": 18.22
         },
         "type": "Feature"
        },
        {
         "geometry": {
          "coordinates": [
           37.25,
           0.75
          ],
          "type": "Point"
         },
         "properties": {
          "YYYYMMDD": "2021-01-07",
          "t2m": 19.95
         },
         "type": "Feature"
        },
        {
         "geometry": {
          "coordinates": [
           37.75,
           0.75
          ],
          "type": "Point"
         },
         "properties": {
          "YYYYMMDD": "2021-01-07",
          "t2m": 23.13
         },
         "type": "Feature"
        },
        {
         "geometry": {
          "coordinates": [
           38.25,
           0.75
          ],
          "type": "Point"
         },
         "properties": {
          "YYYYMMDD": "2021-01-07",
          "t2m": 25.87
         },
         "type": "Feature"
        },
        {
         "geometry": {
          "coordinates": [
           38.75,
           0.75
          ],
          "type": "Point"
         },
         "properties": {
          "YYYYMMDD": "2021-01-07",
          "t2m": 27.33
         },
         "type": "Feature"
        },
        {
         "geometry": {
          "coordinates": [
           39.25,
           0.75
          ],
          "type": "Point"
         },
         "properties": {
          "YYYYMMDD": "2021-01-07",
          "t2m": 27.88
         },
         "type": "Feature"
        },
        {
         "geometry": {
          "coordinates": [
           36.25,
           1.25
          ],
          "type": "Point"
         },
         "properties": {
          "YYYYMMDD": "2021-01-07",
          "t2m": 23.66
         },
         "type": "Feature"
        },
        {
         "geometry": {
          "coordinates": [
           36.75,
           1.25
          ],
          "type": "Point"
         },
         "properties": {
          "YYYYMMDD": "2021-01-07",
          "t2m": 20.53
         },
         "type": "Feature"
        },
        {
         "geometry": {
          "coordinates": [
           37.25,
           1.25
          ],
          "type": "Point"
         },
         "properties": {
          "YYYYMMDD": "2021-01-07",
          "t2m": 21.96
         },
         "type": "Feature"
        },
        {
         "geometry": {
          "coordinates": [
           37.75,
           1.25
          ],
          "type": "Point"
         },
         "properties": {
          "YYYYMMDD": "2021-01-07",
          "t2m": 24.83
         },
         "type": "Feature"
        },
        {
         "geometry": {
          "coordinates": [
           38.25,
           1.25
          ],
          "type": "Point"
         },
         "properties": {
          "YYYYMMDD": "2021-01-07",
          "t2m": 27.08
         },
         "type": "Feature"
        },
        {
         "geometry": {
          "coordinates": [
           38.75,
           1.25
          ],
          "type": "Point"
         },
         "properties": {
          "YYYYMMDD": "2021-01-07",
          "t2m": 27.74
         },
         "type": "Feature"
        },
        {
         "geometry": {
          "coordinates": [
           39.25,
           1.25
          ],
          "type": "Point"
         },
         "properties": {
          "YYYYMMDD": "2021-01-07",
          "t2m": 27.61
         },
         "type": "Feature"
        },
        {
         "geometry": {
          "coordinates": [
           36.25,
           -1.75
          ],
          "type": "Point"
         },
         "properties": {
          "YYYYMMDD": "2021-01-08",
          "t2m": 25.49
         },
         "type": "Feature"
        },
        {
         "geometry": {
          "coordinates": [
           36.75,
           -1.75
          ],
          "type": "Point"
         },
         "properties": {
          "YYYYMMDD": "2021-01-08",
          "t2m": 22.38
         },
         "type": "Feature"
        },
        {
         "geometry": {
          "coordinates": [
           37.25,
           -1.75
          ],
          "type": "Point"
         },
         "properties": {
          "YYYYMMDD": "2021-01-08",
          "t2m": 21.96
         },
         "type": "Feature"
        },
        {
         "geometry": {
          "coordinates": [
           37.75,
           -1.75
          ],
          "type": "Point"
         },
         "properties": {
          "YYYYMMDD": "2021-01-08",
          "t2m": 23.04
         },
         "type": "Feature"
        },
        {
         "geometry": {
          "coordinates": [
           38.25,
           -1.75
          ],
          "type": "Point"
         },
         "properties": {
          "YYYYMMDD": "2021-01-08",
          "t2m": 25
         },
         "type": "Feature"
        },
        {
         "geometry": {
          "coordinates": [
           38.75,
           -1.75
          ],
          "type": "Point"
         },
         "properties": {
          "YYYYMMDD": "2021-01-08",
          "t2m": 27.43
         },
         "type": "Feature"
        },
        {
         "geometry": {
          "coordinates": [
           39.25,
           -1.75
          ],
          "type": "Point"
         },
         "properties": {
          "YYYYMMDD": "2021-01-08",
          "t2m": 29.1
         },
         "type": "Feature"
        },
        {
         "geometry": {
          "coordinates": [
           36.25,
           -1.25
          ],
          "type": "Point"
         },
         "properties": {
          "YYYYMMDD": "2021-01-08",
          "t2m": 21.3
         },
         "type": "Feature"
        },
        {
         "geometry": {
          "coordinates": [
           36.75,
           -1.25
          ],
          "type": "Point"
         },
         "properties": {
          "YYYYMMDD": "2021-01-08",
          "t2m": 20.36
         },
         "type": "Feature"
        },
        {
         "geometry": {
          "coordinates": [
           37.25,
           -1.25
          ],
          "type": "Point"
         },
         "properties": {
          "YYYYMMDD": "2021-01-08",
          "t2m": 21.39
         },
         "type": "Feature"
        },
        {
         "geometry": {
          "coordinates": [
           37.75,
           -1.25
          ],
          "type": "Point"
         },
         "properties": {
          "YYYYMMDD": "2021-01-08",
          "t2m": 22.91
         },
         "type": "Feature"
        },
        {
         "geometry": {
          "coordinates": [
           38.25,
           -1.25
          ],
          "type": "Point"
         },
         "properties": {
          "YYYYMMDD": "2021-01-08",
          "t2m": 24.67
         },
         "type": "Feature"
        },
        {
         "geometry": {
          "coordinates": [
           38.75,
           -1.25
          ],
          "type": "Point"
         },
         "properties": {
          "YYYYMMDD": "2021-01-08",
          "t2m": 27.23
         },
         "type": "Feature"
        },
        {
         "geometry": {
          "coordinates": [
           39.25,
           -1.25
          ],
          "type": "Point"
         },
         "properties": {
          "YYYYMMDD": "2021-01-08",
          "t2m": 28.9
         },
         "type": "Feature"
        },
        {
         "geometry": {
          "coordinates": [
           36.25,
           -0.75
          ],
          "type": "Point"
         },
         "properties": {
          "YYYYMMDD": "2021-01-08",
          "t2m": 16.91
         },
         "type": "Feature"
        },
        {
         "geometry": {
          "coordinates": [
           36.75,
           -0.75
          ],
          "type": "Point"
         },
         "properties": {
          "YYYYMMDD": "2021-01-08",
          "t2m": 17.55
         },
         "type": "Feature"
        },
        {
         "geometry": {
          "coordinates": [
           37.25,
           -0.75
          ],
          "type": "Point"
         },
         "properties": {
          "YYYYMMDD": "2021-01-08",
          "t2m": 20.18
         },
         "type": "Feature"
        },
        {
         "geometry": {
          "coordinates": [
           37.75,
           -0.75
          ],
          "type": "Point"
         },
         "properties": {
          "YYYYMMDD": "2021-01-08",
          "t2m": 22.73
         },
         "type": "Feature"
        },
        {
         "geometry": {
          "coordinates": [
           38.25,
           -0.75
          ],
          "type": "Point"
         },
         "properties": {
          "YYYYMMDD": "2021-01-08",
          "t2m": 24.74
         },
         "type": "Feature"
        },
        {
         "geometry": {
          "coordinates": [
           38.75,
           -0.75
          ],
          "type": "Point"
         },
         "properties": {
          "YYYYMMDD": "2021-01-08",
          "t2m": 26.8
         },
         "type": "Feature"
        },
        {
         "geometry": {
          "coordinates": [
           39.25,
           -0.75
          ],
          "type": "Point"
         },
         "properties": {
          "YYYYMMDD": "2021-01-08",
          "t2m": 28.38
         },
         "type": "Feature"
        },
        {
         "geometry": {
          "coordinates": [
           36.25,
           -0.25
          ],
          "type": "Point"
         },
         "properties": {
          "YYYYMMDD": "2021-01-08",
          "t2m": 16.1
         },
         "type": "Feature"
        },
        {
         "geometry": {
          "coordinates": [
           36.75,
           -0.25
          ],
          "type": "Point"
         },
         "properties": {
          "YYYYMMDD": "2021-01-08",
          "t2m": 16.46
         },
         "type": "Feature"
        },
        {
         "geometry": {
          "coordinates": [
           37.25,
           -0.25
          ],
          "type": "Point"
         },
         "properties": {
          "YYYYMMDD": "2021-01-08",
          "t2m": 17.9
         },
         "type": "Feature"
        },
        {
         "geometry": {
          "coordinates": [
           37.75,
           -0.25
          ],
          "type": "Point"
         },
         "properties": {
          "YYYYMMDD": "2021-01-08",
          "t2m": 21.12
         },
         "type": "Feature"
        },
        {
         "geometry": {
          "coordinates": [
           38.25,
           -0.25
          ],
          "type": "Point"
         },
         "properties": {
          "YYYYMMDD": "2021-01-08",
          "t2m": 25.15
         },
         "type": "Feature"
        },
        {
         "geometry": {
          "coordinates": [
           38.75,
           -0.25
          ],
          "type": "Point"
         },
         "properties": {
          "YYYYMMDD": "2021-01-08",
          "t2m": 26.72
         },
         "type": "Feature"
        },
        {
         "geometry": {
          "coordinates": [
           39.25,
           -0.25
          ],
          "type": "Point"
         },
         "properties": {
          "YYYYMMDD": "2021-01-08",
          "t2m": 28.06
         },
         "type": "Feature"
        },
        {
         "geometry": {
          "coordinates": [
           36.25,
           0.25
          ],
          "type": "Point"
         },
         "properties": {
          "YYYYMMDD": "2021-01-08",
          "t2m": 18.48
         },
         "type": "Feature"
        },
        {
         "geometry": {
          "coordinates": [
           36.75,
           0.25
          ],
          "type": "Point"
         },
         "properties": {
          "YYYYMMDD": "2021-01-08",
          "t2m": 17.52
         },
         "type": "Feature"
        },
        {
         "geometry": {
          "coordinates": [
           37.25,
           0.25
          ],
          "type": "Point"
         },
         "properties": {
          "YYYYMMDD": "2021-01-08",
          "t2m": 18.31
         },
         "type": "Feature"
        },
        {
         "geometry": {
          "coordinates": [
           37.75,
           0.25
          ],
          "type": "Point"
         },
         "properties": {
          "YYYYMMDD": "2021-01-08",
          "t2m": 21.36
         },
         "type": "Feature"
        },
        {
         "geometry": {
          "coordinates": [
           38.25,
           0.25
          ],
          "type": "Point"
         },
         "properties": {
          "YYYYMMDD": "2021-01-08",
          "t2m": 25.43
         },
         "type": "Feature"
        },
        {
         "geometry": {
          "coordinates": [
           38.75,
           0.25
          ],
          "type": "Point"
         },
         "properties": {
          "YYYYMMDD": "2021-01-08",
          "t2m": 26.98
         },
         "type": "Feature"
        },
        {
         "geometry": {
          "coordinates": [
           39.25,
           0.25
          ],
          "type": "Point"
         },
         "properties": {
          "YYYYMMDD": "2021-01-08",
          "t2m": 28.02
         },
         "type": "Feature"
        },
        {
         "geometry": {
          "coordinates": [
           36.25,
           0.75
          ],
          "type": "Point"
         },
         "properties": {
          "YYYYMMDD": "2021-01-08",
          "t2m": 21.26
         },
         "type": "Feature"
        },
        {
         "geometry": {
          "coordinates": [
           36.75,
           0.75
          ],
          "type": "Point"
         },
         "properties": {
          "YYYYMMDD": "2021-01-08",
          "t2m": 18.83
         },
         "type": "Feature"
        },
        {
         "geometry": {
          "coordinates": [
           37.25,
           0.75
          ],
          "type": "Point"
         },
         "properties": {
          "YYYYMMDD": "2021-01-08",
          "t2m": 20.53
         },
         "type": "Feature"
        },
        {
         "geometry": {
          "coordinates": [
           37.75,
           0.75
          ],
          "type": "Point"
         },
         "properties": {
          "YYYYMMDD": "2021-01-08",
          "t2m": 23.47
         },
         "type": "Feature"
        },
        {
         "geometry": {
          "coordinates": [
           38.25,
           0.75
          ],
          "type": "Point"
         },
         "properties": {
          "YYYYMMDD": "2021-01-08",
          "t2m": 26.06
         },
         "type": "Feature"
        },
        {
         "geometry": {
          "coordinates": [
           38.75,
           0.75
          ],
          "type": "Point"
         },
         "properties": {
          "YYYYMMDD": "2021-01-08",
          "t2m": 27.31
         },
         "type": "Feature"
        },
        {
         "geometry": {
          "coordinates": [
           39.25,
           0.75
          ],
          "type": "Point"
         },
         "properties": {
          "YYYYMMDD": "2021-01-08",
          "t2m": 27.85
         },
         "type": "Feature"
        },
        {
         "geometry": {
          "coordinates": [
           36.25,
           1.25
          ],
          "type": "Point"
         },
         "properties": {
          "YYYYMMDD": "2021-01-08",
          "t2m": 23.96
         },
         "type": "Feature"
        },
        {
         "geometry": {
          "coordinates": [
           36.75,
           1.25
          ],
          "type": "Point"
         },
         "properties": {
          "YYYYMMDD": "2021-01-08",
          "t2m": 21.05
         },
         "type": "Feature"
        },
        {
         "geometry": {
          "coordinates": [
           37.25,
           1.25
          ],
          "type": "Point"
         },
         "properties": {
          "YYYYMMDD": "2021-01-08",
          "t2m": 22.4
         },
         "type": "Feature"
        },
        {
         "geometry": {
          "coordinates": [
           37.75,
           1.25
          ],
          "type": "Point"
         },
         "properties": {
          "YYYYMMDD": "2021-01-08",
          "t2m": 24.92
         },
         "type": "Feature"
        },
        {
         "geometry": {
          "coordinates": [
           38.25,
           1.25
          ],
          "type": "Point"
         },
         "properties": {
          "YYYYMMDD": "2021-01-08",
          "t2m": 26.9
         },
         "type": "Feature"
        },
        {
         "geometry": {
          "coordinates": [
           38.75,
           1.25
          ],
          "type": "Point"
         },
         "properties": {
          "YYYYMMDD": "2021-01-08",
          "t2m": 27.45
         },
         "type": "Feature"
        },
        {
         "geometry": {
          "coordinates": [
           39.25,
           1.25
          ],
          "type": "Point"
         },
         "properties": {
          "YYYYMMDD": "2021-01-08",
          "t2m": 27.42
         },
         "type": "Feature"
        },
        {
         "geometry": {
          "coordinates": [
           36.25,
           -1.75
          ],
          "type": "Point"
         },
         "properties": {
          "YYYYMMDD": "2021-01-09",
          "t2m": 24.41
         },
         "type": "Feature"
        },
        {
         "geometry": {
          "coordinates": [
           36.75,
           -1.75
          ],
          "type": "Point"
         },
         "properties": {
          "YYYYMMDD": "2021-01-09",
          "t2m": 21.33
         },
         "type": "Feature"
        },
        {
         "geometry": {
          "coordinates": [
           37.25,
           -1.75
          ],
          "type": "Point"
         },
         "properties": {
          "YYYYMMDD": "2021-01-09",
          "t2m": 21.43
         },
         "type": "Feature"
        },
        {
         "geometry": {
          "coordinates": [
           37.75,
           -1.75
          ],
          "type": "Point"
         },
         "properties": {
          "YYYYMMDD": "2021-01-09",
          "t2m": 23.05
         },
         "type": "Feature"
        },
        {
         "geometry": {
          "coordinates": [
           38.25,
           -1.75
          ],
          "type": "Point"
         },
         "properties": {
          "YYYYMMDD": "2021-01-09",
          "t2m": 25.31
         },
         "type": "Feature"
        },
        {
         "geometry": {
          "coordinates": [
           38.75,
           -1.75
          ],
          "type": "Point"
         },
         "properties": {
          "YYYYMMDD": "2021-01-09",
          "t2m": 27.92
         },
         "type": "Feature"
        },
        {
         "geometry": {
          "coordinates": [
           39.25,
           -1.75
          ],
          "type": "Point"
         },
         "properties": {
          "YYYYMMDD": "2021-01-09",
          "t2m": 29.64
         },
         "type": "Feature"
        },
        {
         "geometry": {
          "coordinates": [
           36.25,
           -1.25
          ],
          "type": "Point"
         },
         "properties": {
          "YYYYMMDD": "2021-01-09",
          "t2m": 20.87
         },
         "type": "Feature"
        },
        {
         "geometry": {
          "coordinates": [
           36.75,
           -1.25
          ],
          "type": "Point"
         },
         "properties": {
          "YYYYMMDD": "2021-01-09",
          "t2m": 20.11
         },
         "type": "Feature"
        },
        {
         "geometry": {
          "coordinates": [
           37.25,
           -1.25
          ],
          "type": "Point"
         },
         "properties": {
          "YYYYMMDD": "2021-01-09",
          "t2m": 21.05
         },
         "type": "Feature"
        },
        {
         "geometry": {
          "coordinates": [
           37.75,
           -1.25
          ],
          "type": "Point"
         },
         "properties": {
          "YYYYMMDD": "2021-01-09",
          "t2m": 22.79
         },
         "type": "Feature"
        },
        {
         "geometry": {
          "coordinates": [
           38.25,
           -1.25
          ],
          "type": "Point"
         },
         "properties": {
          "YYYYMMDD": "2021-01-09",
          "t2m": 24.98
         },
         "type": "Feature"
        },
        {
         "geometry": {
          "coordinates": [
           38.75,
           -1.25
          ],
          "type": "Point"
         },
         "properties": {
          "YYYYMMDD": "2021-01-09",
          "t2m": 27.73
         },
         "type": "Feature"
        },
        {
         "geometry": {
          "coordinates": [
           39.25,
           -1.25
          ],
          "type": "Point"
         },
         "properties": {
          "YYYYMMDD": "2021-01-09",
          "t2m": 29.45
         },
         "type": "Feature"
        },
        {
         "geometry": {
          "coordinates": [
           36.25,
           -0.75
          ],
          "type": "Point"
         },
         "properties": {
          "YYYYMMDD": "2021-01-09",
          "t2m": 16.9
         },
         "type": "Feature"
        },
        {
         "geometry": {
          "coordinates": [
           36.75,
           -0.75
          ],
          "type": "Point"
         },
         "properties": {
          "YYYYMMDD": "2021-01-09",
          "t2m": 17.91
         },
         "type": "Feature"
        },
        {
         "geometry": {
          "coordinates": [
           37.25,
           -0.75
          ],
          "type": "Point"
         },
         "properties": {
          "YYYYMMDD": "2021-01-09",
          "t2m": 20.28
         },
         "type": "Feature"
        },
        {
         "geometry": {
          "coordinates": [
           37.75,
           -0.75
          ],
          "type": "Point"
         },
         "properties": {
          "YYYYMMDD": "2021-01-09",
          "t2m": 22.87
         },
         "type": "Feature"
        },
        {
         "geometry": {
          "coordinates": [
           38.25,
           -0.75
          ],
          "type": "Point"
         },
         "properties": {
          "YYYYMMDD": "2021-01-09",
          "t2m": 25.19
         },
         "type": "Feature"
        },
        {
         "geometry": {
          "coordinates": [
           38.75,
           -0.75
          ],
          "type": "Point"
         },
         "properties": {
          "YYYYMMDD": "2021-01-09",
          "t2m": 27.34
         },
         "type": "Feature"
        },
        {
         "geometry": {
          "coordinates": [
           39.25,
           -0.75
          ],
          "type": "Point"
         },
         "properties": {
          "YYYYMMDD": "2021-01-09",
          "t2m": 28.87
         },
         "type": "Feature"
        },
        {
         "geometry": {
          "coordinates": [
           36.25,
           -0.25
          ],
          "type": "Point"
         },
         "properties": {
          "YYYYMMDD": "2021-01-09",
          "t2m": 16.23
         },
         "type": "Feature"
        },
        {
         "geometry": {
          "coordinates": [
           36.75,
           -0.25
          ],
          "type": "Point"
         },
         "properties": {
          "YYYYMMDD": "2021-01-09",
          "t2m": 16.75
         },
         "type": "Feature"
        },
        {
         "geometry": {
          "coordinates": [
           37.25,
           -0.25
          ],
          "type": "Point"
         },
         "properties": {
          "YYYYMMDD": "2021-01-09",
          "t2m": 18.13
         },
         "type": "Feature"
        },
        {
         "geometry": {
          "coordinates": [
           37.75,
           -0.25
          ],
          "type": "Point"
         },
         "properties": {
          "YYYYMMDD": "2021-01-09",
          "t2m": 21.45
         },
         "type": "Feature"
        },
        {
         "geometry": {
          "coordinates": [
           38.25,
           -0.25
          ],
          "type": "Point"
         },
         "properties": {
          "YYYYMMDD": "2021-01-09",
          "t2m": 25.57
         },
         "type": "Feature"
        },
        {
         "geometry": {
          "coordinates": [
           38.75,
           -0.25
          ],
          "type": "Point"
         },
         "properties": {
          "YYYYMMDD": "2021-01-09",
          "t2m": 27.2
         },
         "type": "Feature"
        },
        {
         "geometry": {
          "coordinates": [
           39.25,
           -0.25
          ],
          "type": "Point"
         },
         "properties": {
          "YYYYMMDD": "2021-01-09",
          "t2m": 28.4
         },
         "type": "Feature"
        },
        {
         "geometry": {
          "coordinates": [
           36.25,
           0.25
          ],
          "type": "Point"
         },
         "properties": {
          "YYYYMMDD": "2021-01-09",
          "t2m": 18.91
         },
         "type": "Feature"
        },
        {
         "geometry": {
          "coordinates": [
           36.75,
           0.25
          ],
          "type": "Point"
         },
         "properties": {
          "YYYYMMDD": "2021-01-09",
          "t2m": 17.89
         },
         "type": "Feature"
        },
        {
         "geometry": {
          "coordinates": [
           37.25,
           0.25
          ],
          "type": "Point"
         },
         "properties": {
          "YYYYMMDD": "2021-01-09",
          "t2m": 18.56
         },
         "type": "Feature"
        },
        {
         "geometry": {
          "coordinates": [
           37.75,
           0.25
          ],
          "type": "Point"
         },
         "properties": {
          "YYYYMMDD": "2021-01-09",
          "t2m": 21.65
         },
         "type": "Feature"
        },
        {
         "geometry": {
          "coordinates": [
           38.25,
           0.25
          ],
          "type": "Point"
         },
         "properties": {
          "YYYYMMDD": "2021-01-09",
          "t2m": 25.73
         },
         "type": "Feature"
        },
        {
         "geometry": {
          "coordinates": [
           38.75,
           0.25
          ],
          "type": "Point"
         },
         "properties": {
          "YYYYMMDD": "2021-01-09",
          "t2m": 27.37
         },
         "type": "Feature"
        },
        {
         "geometry": {
          "coordinates": [
           39.25,
           0.25
          ],
          "type": "Point"
         },
         "properties": {
          "YYYYMMDD": "2021-01-09",
          "t2m": 28.22
         },
         "type": "Feature"
        },
        {
         "geometry": {
          "coordinates": [
           36.25,
           0.75
          ],
          "type": "Point"
         },
         "properties": {
          "YYYYMMDD": "2021-01-09",
          "t2m": 21.66
         },
         "type": "Feature"
        },
        {
         "geometry": {
          "coordinates": [
           36.75,
           0.75
          ],
          "type": "Point"
         },
         "properties": {
          "YYYYMMDD": "2021-01-09",
          "t2m": 19.18
         },
         "type": "Feature"
        },
        {
         "geometry": {
          "coordinates": [
           37.25,
           0.75
          ],
          "type": "Point"
         },
         "properties": {
          "YYYYMMDD": "2021-01-09",
          "t2m": 20.83
         },
         "type": "Feature"
        },
        {
         "geometry": {
          "coordinates": [
           37.75,
           0.75
          ],
          "type": "Point"
         },
         "properties": {
          "YYYYMMDD": "2021-01-09",
          "t2m": 23.78
         },
         "type": "Feature"
        },
        {
         "geometry": {
          "coordinates": [
           38.25,
           0.75
          ],
          "type": "Point"
         },
         "properties": {
          "YYYYMMDD": "2021-01-09",
          "t2m": 26.2
         },
         "type": "Feature"
        },
        {
         "geometry": {
          "coordinates": [
           38.75,
           0.75
          ],
          "type": "Point"
         },
         "properties": {
          "YYYYMMDD": "2021-01-09",
          "t2m": 27.43
         },
         "type": "Feature"
        },
        {
         "geometry": {
          "coordinates": [
           39.25,
           0.75
          ],
          "type": "Point"
         },
         "properties": {
          "YYYYMMDD": "2021-01-09",
          "t2m": 27.9
         },
         "type": "Feature"
        },
        {
         "geometry": {
          "coordinates": [
           36.25,
           1.25
          ],
          "type": "Point"
         },
         "properties": {
          "YYYYMMDD": "2021-01-09",
          "t2m": 24.17
         },
         "type": "Feature"
        },
        {
         "geometry": {
          "coordinates": [
           36.75,
           1.25
          ],
          "type": "Point"
         },
         "properties": {
          "YYYYMMDD": "2021-01-09",
          "t2m": 21.2
         },
         "type": "Feature"
        },
        {
         "geometry": {
          "coordinates": [
           37.25,
           1.25
          ],
          "type": "Point"
         },
         "properties": {
          "YYYYMMDD": "2021-01-09",
          "t2m": 22.64
         },
         "type": "Feature"
        },
        {
         "geometry": {
          "coordinates": [
           37.75,
           1.25
          ],
          "type": "Point"
         },
         "properties": {
          "YYYYMMDD": "2021-01-09",
          "t2m": 25.23
         },
         "type": "Feature"
        },
        {
         "geometry": {
          "coordinates": [
           38.25,
           1.25
          ],
          "type": "Point"
         },
         "properties": {
          "YYYYMMDD": "2021-01-09",
          "t2m": 27.01
         },
         "type": "Feature"
        },
        {
         "geometry": {
          "coordinates": [
           38.75,
           1.25
          ],
          "type": "Point"
         },
         "properties": {
          "YYYYMMDD": "2021-01-09",
          "t2m": 27.37
         },
         "type": "Feature"
        },
        {
         "geometry": {
          "coordinates": [
           39.25,
           1.25
          ],
          "type": "Point"
         },
         "properties": {
          "YYYYMMDD": "2021-01-09",
          "t2m": 27.4
         },
         "type": "Feature"
        },
        {
         "geometry": {
          "coordinates": [
           36.25,
           -1.75
          ],
          "type": "Point"
         },
         "properties": {
          "YYYYMMDD": "2021-01-10",
          "t2m": 20.66
         },
         "type": "Feature"
        },
        {
         "geometry": {
          "coordinates": [
           36.75,
           -1.75
          ],
          "type": "Point"
         },
         "properties": {
          "YYYYMMDD": "2021-01-10",
          "t2m": 18.2
         },
         "type": "Feature"
        },
        {
         "geometry": {
          "coordinates": [
           37.25,
           -1.75
          ],
          "type": "Point"
         },
         "properties": {
          "YYYYMMDD": "2021-01-10",
          "t2m": 18.33
         },
         "type": "Feature"
        },
        {
         "geometry": {
          "coordinates": [
           37.75,
           -1.75
          ],
          "type": "Point"
         },
         "properties": {
          "YYYYMMDD": "2021-01-10",
          "t2m": 20.08
         },
         "type": "Feature"
        },
        {
         "geometry": {
          "coordinates": [
           38.25,
           -1.75
          ],
          "type": "Point"
         },
         "properties": {
          "YYYYMMDD": "2021-01-10",
          "t2m": 22.57
         },
         "type": "Feature"
        },
        {
         "geometry": {
          "coordinates": [
           38.75,
           -1.75
          ],
          "type": "Point"
         },
         "properties": {
          "YYYYMMDD": "2021-01-10",
          "t2m": 25.78
         },
         "type": "Feature"
        },
        {
         "geometry": {
          "coordinates": [
           39.25,
           -1.75
          ],
          "type": "Point"
         },
         "properties": {
          "YYYYMMDD": "2021-01-10",
          "t2m": 28.41
         },
         "type": "Feature"
        },
        {
         "geometry": {
          "coordinates": [
           36.25,
           -1.25
          ],
          "type": "Point"
         },
         "properties": {
          "YYYYMMDD": "2021-01-10",
          "t2m": 18.22
         },
         "type": "Feature"
        },
        {
         "geometry": {
          "coordinates": [
           36.75,
           -1.25
          ],
          "type": "Point"
         },
         "properties": {
          "YYYYMMDD": "2021-01-10",
          "t2m": 17.65
         },
         "type": "Feature"
        },
        {
         "geometry": {
          "coordinates": [
           37.25,
           -1.25
          ],
          "type": "Point"
         },
         "properties": {
          "YYYYMMDD": "2021-01-10",
          "t2m": 18.58
         },
         "type": "Feature"
        },
        {
         "geometry": {
          "coordinates": [
           37.75,
           -1.25
          ],
          "type": "Point"
         },
         "properties": {
          "YYYYMMDD": "2021-01-10",
          "t2m": 20.41
         },
         "type": "Feature"
        },
        {
         "geometry": {
          "coordinates": [
           38.25,
           -1.25
          ],
          "type": "Point"
         },
         "properties": {
          "YYYYMMDD": "2021-01-10",
          "t2m": 22.67
         },
         "type": "Feature"
        },
        {
         "geometry": {
          "coordinates": [
           38.75,
           -1.25
          ],
          "type": "Point"
         },
         "properties": {
          "YYYYMMDD": "2021-01-10",
          "t2m": 25.59
         },
         "type": "Feature"
        },
        {
         "geometry": {
          "coordinates": [
           39.25,
           -1.25
          ],
          "type": "Point"
         },
         "properties": {
          "YYYYMMDD": "2021-01-10",
          "t2m": 27.91
         },
         "type": "Feature"
        },
        {
         "geometry": {
          "coordinates": [
           36.25,
           -0.75
          ],
          "type": "Point"
         },
         "properties": {
          "YYYYMMDD": "2021-01-10",
          "t2m": 15.26
         },
         "type": "Feature"
        },
        {
         "geometry": {
          "coordinates": [
           36.75,
           -0.75
          ],
          "type": "Point"
         },
         "properties": {
          "YYYYMMDD": "2021-01-10",
          "t2m": 16.07
         },
         "type": "Feature"
        },
        {
         "geometry": {
          "coordinates": [
           37.25,
           -0.75
          ],
          "type": "Point"
         },
         "properties": {
          "YYYYMMDD": "2021-01-10",
          "t2m": 18.27
         },
         "type": "Feature"
        },
        {
         "geometry": {
          "coordinates": [
           37.75,
           -0.75
          ],
          "type": "Point"
         },
         "properties": {
          "YYYYMMDD": "2021-01-10",
          "t2m": 20.98
         },
         "type": "Feature"
        },
        {
         "geometry": {
          "coordinates": [
           38.25,
           -0.75
          ],
          "type": "Point"
         },
         "properties": {
          "YYYYMMDD": "2021-01-10",
          "t2m": 23.41
         },
         "type": "Feature"
        },
        {
         "geometry": {
          "coordinates": [
           38.75,
           -0.75
          ],
          "type": "Point"
         },
         "properties": {
          "YYYYMMDD": "2021-01-10",
          "t2m": 25.4
         },
         "type": "Feature"
        },
        {
         "geometry": {
          "coordinates": [
           39.25,
           -0.75
          ],
          "type": "Point"
         },
         "properties": {
          "YYYYMMDD": "2021-01-10",
          "t2m": 27.2
         },
         "type": "Feature"
        },
        {
         "geometry": {
          "coordinates": [
           36.25,
           -0.25
          ],
          "type": "Point"
         },
         "properties": {
          "YYYYMMDD": "2021-01-10",
          "t2m": 15.02
         },
         "type": "Feature"
        },
        {
         "geometry": {
          "coordinates": [
           36.75,
           -0.25
          ],
          "type": "Point"
         },
         "properties": {
          "YYYYMMDD": "2021-01-10",
          "t2m": 15.22
         },
         "type": "Feature"
        },
        {
         "geometry": {
          "coordinates": [
           37.25,
           -0.25
          ],
          "type": "Point"
         },
         "properties": {
          "YYYYMMDD": "2021-01-10",
          "t2m": 16.48
         },
         "type": "Feature"
        },
        {
         "geometry": {
          "coordinates": [
           37.75,
           -0.25
          ],
          "type": "Point"
         },
         "properties": {
          "YYYYMMDD": "2021-01-10",
          "t2m": 19.94
         },
         "type": "Feature"
        },
        {
         "geometry": {
          "coordinates": [
           38.25,
           -0.25
          ],
          "type": "Point"
         },
         "properties": {
          "YYYYMMDD": "2021-01-10",
          "t2m": 24.17
         },
         "type": "Feature"
        },
        {
         "geometry": {
          "coordinates": [
           38.75,
           -0.25
          ],
          "type": "Point"
         },
         "properties": {
          "YYYYMMDD": "2021-01-10",
          "t2m": 25.62
         },
         "type": "Feature"
        },
        {
         "geometry": {
          "coordinates": [
           39.25,
           -0.25
          ],
          "type": "Point"
         },
         "properties": {
          "YYYYMMDD": "2021-01-10",
          "t2m": 26.85
         },
         "type": "Feature"
        },
        {
         "geometry": {
          "coordinates": [
           36.25,
           0.25
          ],
          "type": "Point"
         },
         "properties": {
          "YYYYMMDD": "2021-01-10",
          "t2m": 18.1
         },
         "type": "Feature"
        },
        {
         "geometry": {
          "coordinates": [
           36.75,
           0.25
          ],
          "type": "Point"
         },
         "properties": {
          "YYYYMMDD": "2021-01-10",
          "t2m": 16.96
         },
         "type": "Feature"
        },
        {
         "geometry": {
          "coordinates": [
           37.25,
           0.25
          ],
          "type": "Point"
         },
         "properties": {
          "YYYYMMDD": "2021-01-10",
          "t2m": 17.56
         },
         "type": "Feature"
        },
        {
         "geometry": {
          "coordinates": [
           37.75,
           0.25
          ],
          "type": "Point"
         },
         "properties": {
          "YYYYMMDD": "2021-01-10",
          "t2m": 20.6
         },
         "type": "Feature"
        },
        {
         "geometry": {
          "coordinates": [
           38.25,
           0.25
          ],
          "type": "Point"
         },
         "properties": {
          "YYYYMMDD": "2021-01-10",
          "t2m": 24.57
         },
         "type": "Feature"
        },
        {
         "geometry": {
          "coordinates": [
           38.75,
           0.25
          ],
          "type": "Point"
         },
         "properties": {
          "YYYYMMDD": "2021-01-10",
          "t2m": 26.08
         },
         "type": "Feature"
        },
        {
         "geometry": {
          "coordinates": [
           39.25,
           0.25
          ],
          "type": "Point"
         },
         "properties": {
          "YYYYMMDD": "2021-01-10",
          "t2m": 27.01
         },
         "type": "Feature"
        },
        {
         "geometry": {
          "coordinates": [
           36.25,
           0.75
          ],
          "type": "Point"
         },
         "properties": {
          "YYYYMMDD": "2021-01-10",
          "t2m": 21.34
         },
         "type": "Feature"
        },
        {
         "geometry": {
          "coordinates": [
           36.75,
           0.75
          ],
          "type": "Point"
         },
         "properties": {
          "YYYYMMDD": "2021-01-10",
          "t2m": 18.85
         },
         "type": "Feature"
        },
        {
         "geometry": {
          "coordinates": [
           37.25,
           0.75
          ],
          "type": "Point"
         },
         "properties": {
          "YYYYMMDD": "2021-01-10",
          "t2m": 20.3
         },
         "type": "Feature"
        },
        {
         "geometry": {
          "coordinates": [
           37.75,
           0.75
          ],
          "type": "Point"
         },
         "properties": {
          "YYYYMMDD": "2021-01-10",
          "t2m": 23.06
         },
         "type": "Feature"
        },
        {
         "geometry": {
          "coordinates": [
           38.25,
           0.75
          ],
          "type": "Point"
         },
         "properties": {
          "YYYYMMDD": "2021-01-10",
          "t2m": 25.36
         },
         "type": "Feature"
        },
        {
         "geometry": {
          "coordinates": [
           38.75,
           0.75
          ],
          "type": "Point"
         },
         "properties": {
          "YYYYMMDD": "2021-01-10",
          "t2m": 26.59
         },
         "type": "Feature"
        },
        {
         "geometry": {
          "coordinates": [
           39.25,
           0.75
          ],
          "type": "Point"
         },
         "properties": {
          "YYYYMMDD": "2021-01-10",
          "t2m": 27.21
         },
         "type": "Feature"
        },
        {
         "geometry": {
          "coordinates": [
           36.25,
           1.25
          ],
          "type": "Point"
         },
         "properties": {
          "YYYYMMDD": "2021-01-10",
          "t2m": 24.02
         },
         "type": "Feature"
        },
        {
         "geometry": {
          "coordinates": [
           36.75,
           1.25
          ],
          "type": "Point"
         },
         "properties": {
          "YYYYMMDD": "2021-01-10",
          "t2m": 21.08
         },
         "type": "Feature"
        },
        {
         "geometry": {
          "coordinates": [
           37.25,
           1.25
          ],
          "type": "Point"
         },
         "properties": {
          "YYYYMMDD": "2021-01-10",
          "t2m": 22.23
         },
         "type": "Feature"
        },
        {
         "geometry": {
          "coordinates": [
           37.75,
           1.25
          ],
          "type": "Point"
         },
         "properties": {
          "YYYYMMDD": "2021-01-10",
          "t2m": 24.62
         },
         "type": "Feature"
        },
        {
         "geometry": {
          "coordinates": [
           38.25,
           1.25
          ],
          "type": "Point"
         },
         "properties": {
          "YYYYMMDD": "2021-01-10",
          "t2m": 26.39
         },
         "type": "Feature"
        },
        {
         "geometry": {
          "coordinates": [
           38.75,
           1.25
          ],
          "type": "Point"
         },
         "properties": {
          "YYYYMMDD": "2021-01-10",
          "t2m": 26.85
         },
         "type": "Feature"
        },
        {
         "geometry": {
          "coordinates": [
           39.25,
           1.25
          ],
          "type": "Point"
         },
         "properties": {
          "YYYYMMDD": "2021-01-10",
          "t2m": 27.01
         },
         "type": "Feature"
        }
       ],
       "type": "FeatureCollection"
      },
      "text/html": [
       "<table>\n",
       "<caption>A sf: 490 × 3</caption>\n",
       "<thead>\n",
       "\t<tr><th></th><th scope=col>YYYYMMDD</th><th scope=col>t2m</th><th scope=col>geometry</th></tr>\n",
       "\t<tr><th></th><th scope=col>&lt;date&gt;</th><th scope=col>&lt;dbl&gt;</th><th scope=col>&lt;POINT [°]&gt;</th></tr>\n",
       "</thead>\n",
       "<tbody>\n",
       "\t<tr><th scope=row>1</th><td>2021-01-01</td><td>22.10</td><td>POINT (36.25 -1.75)</td></tr>\n",
       "\t<tr><th scope=row>2</th><td>2021-01-01</td><td>20.16</td><td>POINT (36.75 -1.75)</td></tr>\n",
       "\t<tr><th scope=row>3</th><td>2021-01-01</td><td>20.26</td><td>POINT (37.25 -1.75)</td></tr>\n",
       "\t<tr><th scope=row>4</th><td>2021-01-01</td><td>21.72</td><td>POINT (37.75 -1.75)</td></tr>\n",
       "\t<tr><th scope=row>5</th><td>2021-01-01</td><td>24.00</td><td>POINT (38.25 -1.75)</td></tr>\n",
       "\t<tr><th scope=row>6</th><td>2021-01-01</td><td>26.74</td><td>POINT (38.75 -1.75)</td></tr>\n",
       "\t<tr><th scope=row>7</th><td>2021-01-01</td><td>28.03</td><td>POINT (39.25 -1.75)</td></tr>\n",
       "\t<tr><th scope=row>8</th><td>2021-01-01</td><td>18.28</td><td>POINT (36.25 -1.25)</td></tr>\n",
       "\t<tr><th scope=row>9</th><td>2021-01-01</td><td>18.67</td><td>POINT (36.75 -1.25)</td></tr>\n",
       "\t<tr><th scope=row>10</th><td>2021-01-01</td><td>19.93</td><td>POINT (37.25 -1.25)</td></tr>\n",
       "\t<tr><th scope=row>11</th><td>2021-01-01</td><td>21.67</td><td>POINT (37.75 -1.25)</td></tr>\n",
       "\t<tr><th scope=row>12</th><td>2021-01-01</td><td>23.78</td><td>POINT (38.25 -1.25)</td></tr>\n",
       "\t<tr><th scope=row>13</th><td>2021-01-01</td><td>26.32</td><td>POINT (38.75 -1.25)</td></tr>\n",
       "\t<tr><th scope=row>14</th><td>2021-01-01</td><td>27.64</td><td>POINT (39.25 -1.25)</td></tr>\n",
       "\t<tr><th scope=row>15</th><td>2021-01-01</td><td>14.85</td><td>POINT (36.25 -0.75)</td></tr>\n",
       "\t<tr><th scope=row>16</th><td>2021-01-01</td><td>16.20</td><td>POINT (36.75 -0.75)</td></tr>\n",
       "\t<tr><th scope=row>17</th><td>2021-01-01</td><td>18.65</td><td>POINT (37.25 -0.75)</td></tr>\n",
       "\t<tr><th scope=row>18</th><td>2021-01-01</td><td>21.29</td><td>POINT (37.75 -0.75)</td></tr>\n",
       "\t<tr><th scope=row>19</th><td>2021-01-01</td><td>23.73</td><td>POINT (38.25 -0.75)</td></tr>\n",
       "\t<tr><th scope=row>20</th><td>2021-01-01</td><td>25.87</td><td>POINT (38.75 -0.75)</td></tr>\n",
       "\t<tr><th scope=row>21</th><td>2021-01-01</td><td>27.30</td><td>POINT (39.25 -0.75)</td></tr>\n",
       "\t<tr><th scope=row>22</th><td>2021-01-01</td><td>14.98</td><td>POINT (36.25 -0.25)</td></tr>\n",
       "\t<tr><th scope=row>23</th><td>2021-01-01</td><td>15.47</td><td>POINT (36.75 -0.25)</td></tr>\n",
       "\t<tr><th scope=row>24</th><td>2021-01-01</td><td>16.68</td><td>POINT (37.25 -0.25)</td></tr>\n",
       "\t<tr><th scope=row>25</th><td>2021-01-01</td><td>19.75</td><td>POINT (37.75 -0.25)</td></tr>\n",
       "\t<tr><th scope=row>26</th><td>2021-01-01</td><td>23.88</td><td>POINT (38.25 -0.25)</td></tr>\n",
       "\t<tr><th scope=row>27</th><td>2021-01-01</td><td>25.80</td><td>POINT (38.75 -0.25)</td></tr>\n",
       "\t<tr><th scope=row>28</th><td>2021-01-01</td><td>27.22</td><td>POINT (39.25 -0.25)</td></tr>\n",
       "\t<tr><th scope=row>29</th><td>2021-01-01</td><td>17.56</td><td>POINT (36.25 0.25)</td></tr>\n",
       "\t<tr><th scope=row>30</th><td>2021-01-01</td><td>16.97</td><td>POINT (36.75 0.25)</td></tr>\n",
       "\t<tr><th scope=row>⋮</th><td>⋮</td><td>⋮</td><td>⋮</td></tr>\n",
       "\t<tr><th scope=row>461</th><td>2021-01-10</td><td>25.40</td><td>POINT (38.75 -0.75)</td></tr>\n",
       "\t<tr><th scope=row>462</th><td>2021-01-10</td><td>27.20</td><td>POINT (39.25 -0.75)</td></tr>\n",
       "\t<tr><th scope=row>463</th><td>2021-01-10</td><td>15.02</td><td>POINT (36.25 -0.25)</td></tr>\n",
       "\t<tr><th scope=row>464</th><td>2021-01-10</td><td>15.22</td><td>POINT (36.75 -0.25)</td></tr>\n",
       "\t<tr><th scope=row>465</th><td>2021-01-10</td><td>16.48</td><td>POINT (37.25 -0.25)</td></tr>\n",
       "\t<tr><th scope=row>466</th><td>2021-01-10</td><td>19.94</td><td>POINT (37.75 -0.25)</td></tr>\n",
       "\t<tr><th scope=row>467</th><td>2021-01-10</td><td>24.17</td><td>POINT (38.25 -0.25)</td></tr>\n",
       "\t<tr><th scope=row>468</th><td>2021-01-10</td><td>25.62</td><td>POINT (38.75 -0.25)</td></tr>\n",
       "\t<tr><th scope=row>469</th><td>2021-01-10</td><td>26.85</td><td>POINT (39.25 -0.25)</td></tr>\n",
       "\t<tr><th scope=row>470</th><td>2021-01-10</td><td>18.10</td><td>POINT (36.25 0.25)</td></tr>\n",
       "\t<tr><th scope=row>471</th><td>2021-01-10</td><td>16.96</td><td>POINT (36.75 0.25)</td></tr>\n",
       "\t<tr><th scope=row>472</th><td>2021-01-10</td><td>17.56</td><td>POINT (37.25 0.25)</td></tr>\n",
       "\t<tr><th scope=row>473</th><td>2021-01-10</td><td>20.60</td><td>POINT (37.75 0.25)</td></tr>\n",
       "\t<tr><th scope=row>474</th><td>2021-01-10</td><td>24.57</td><td>POINT (38.25 0.25)</td></tr>\n",
       "\t<tr><th scope=row>475</th><td>2021-01-10</td><td>26.08</td><td>POINT (38.75 0.25)</td></tr>\n",
       "\t<tr><th scope=row>476</th><td>2021-01-10</td><td>27.01</td><td>POINT (39.25 0.25)</td></tr>\n",
       "\t<tr><th scope=row>477</th><td>2021-01-10</td><td>21.34</td><td>POINT (36.25 0.75)</td></tr>\n",
       "\t<tr><th scope=row>478</th><td>2021-01-10</td><td>18.85</td><td>POINT (36.75 0.75)</td></tr>\n",
       "\t<tr><th scope=row>479</th><td>2021-01-10</td><td>20.30</td><td>POINT (37.25 0.75)</td></tr>\n",
       "\t<tr><th scope=row>480</th><td>2021-01-10</td><td>23.06</td><td>POINT (37.75 0.75)</td></tr>\n",
       "\t<tr><th scope=row>481</th><td>2021-01-10</td><td>25.36</td><td>POINT (38.25 0.75)</td></tr>\n",
       "\t<tr><th scope=row>482</th><td>2021-01-10</td><td>26.59</td><td>POINT (38.75 0.75)</td></tr>\n",
       "\t<tr><th scope=row>483</th><td>2021-01-10</td><td>27.21</td><td>POINT (39.25 0.75)</td></tr>\n",
       "\t<tr><th scope=row>484</th><td>2021-01-10</td><td>24.02</td><td>POINT (36.25 1.25)</td></tr>\n",
       "\t<tr><th scope=row>485</th><td>2021-01-10</td><td>21.08</td><td>POINT (36.75 1.25)</td></tr>\n",
       "\t<tr><th scope=row>486</th><td>2021-01-10</td><td>22.23</td><td>POINT (37.25 1.25)</td></tr>\n",
       "\t<tr><th scope=row>487</th><td>2021-01-10</td><td>24.62</td><td>POINT (37.75 1.25)</td></tr>\n",
       "\t<tr><th scope=row>488</th><td>2021-01-10</td><td>26.39</td><td>POINT (38.25 1.25)</td></tr>\n",
       "\t<tr><th scope=row>489</th><td>2021-01-10</td><td>26.85</td><td>POINT (38.75 1.25)</td></tr>\n",
       "\t<tr><th scope=row>490</th><td>2021-01-10</td><td>27.01</td><td>POINT (39.25 1.25)</td></tr>\n",
       "</tbody>\n",
       "</table>\n"
      ],
      "text/latex": [
       "A sf: 490 × 3\n",
       "\\begin{tabular}{r|lll}\n",
       "  & YYYYMMDD & t2m & geometry\\\\\n",
       "  & <date> & <dbl> & <POINT {[}°{]}>\\\\\n",
       "\\hline\n",
       "\t1 & 2021-01-01 & 22.10 & POINT (36.25 -1.75)\\\\\n",
       "\t2 & 2021-01-01 & 20.16 & POINT (36.75 -1.75)\\\\\n",
       "\t3 & 2021-01-01 & 20.26 & POINT (37.25 -1.75)\\\\\n",
       "\t4 & 2021-01-01 & 21.72 & POINT (37.75 -1.75)\\\\\n",
       "\t5 & 2021-01-01 & 24.00 & POINT (38.25 -1.75)\\\\\n",
       "\t6 & 2021-01-01 & 26.74 & POINT (38.75 -1.75)\\\\\n",
       "\t7 & 2021-01-01 & 28.03 & POINT (39.25 -1.75)\\\\\n",
       "\t8 & 2021-01-01 & 18.28 & POINT (36.25 -1.25)\\\\\n",
       "\t9 & 2021-01-01 & 18.67 & POINT (36.75 -1.25)\\\\\n",
       "\t10 & 2021-01-01 & 19.93 & POINT (37.25 -1.25)\\\\\n",
       "\t11 & 2021-01-01 & 21.67 & POINT (37.75 -1.25)\\\\\n",
       "\t12 & 2021-01-01 & 23.78 & POINT (38.25 -1.25)\\\\\n",
       "\t13 & 2021-01-01 & 26.32 & POINT (38.75 -1.25)\\\\\n",
       "\t14 & 2021-01-01 & 27.64 & POINT (39.25 -1.25)\\\\\n",
       "\t15 & 2021-01-01 & 14.85 & POINT (36.25 -0.75)\\\\\n",
       "\t16 & 2021-01-01 & 16.20 & POINT (36.75 -0.75)\\\\\n",
       "\t17 & 2021-01-01 & 18.65 & POINT (37.25 -0.75)\\\\\n",
       "\t18 & 2021-01-01 & 21.29 & POINT (37.75 -0.75)\\\\\n",
       "\t19 & 2021-01-01 & 23.73 & POINT (38.25 -0.75)\\\\\n",
       "\t20 & 2021-01-01 & 25.87 & POINT (38.75 -0.75)\\\\\n",
       "\t21 & 2021-01-01 & 27.30 & POINT (39.25 -0.75)\\\\\n",
       "\t22 & 2021-01-01 & 14.98 & POINT (36.25 -0.25)\\\\\n",
       "\t23 & 2021-01-01 & 15.47 & POINT (36.75 -0.25)\\\\\n",
       "\t24 & 2021-01-01 & 16.68 & POINT (37.25 -0.25)\\\\\n",
       "\t25 & 2021-01-01 & 19.75 & POINT (37.75 -0.25)\\\\\n",
       "\t26 & 2021-01-01 & 23.88 & POINT (38.25 -0.25)\\\\\n",
       "\t27 & 2021-01-01 & 25.80 & POINT (38.75 -0.25)\\\\\n",
       "\t28 & 2021-01-01 & 27.22 & POINT (39.25 -0.25)\\\\\n",
       "\t29 & 2021-01-01 & 17.56 & POINT (36.25 0.25)\\\\\n",
       "\t30 & 2021-01-01 & 16.97 & POINT (36.75 0.25)\\\\\n",
       "\t⋮ & ⋮ & ⋮ & ⋮\\\\\n",
       "\t461 & 2021-01-10 & 25.40 & POINT (38.75 -0.75)\\\\\n",
       "\t462 & 2021-01-10 & 27.20 & POINT (39.25 -0.75)\\\\\n",
       "\t463 & 2021-01-10 & 15.02 & POINT (36.25 -0.25)\\\\\n",
       "\t464 & 2021-01-10 & 15.22 & POINT (36.75 -0.25)\\\\\n",
       "\t465 & 2021-01-10 & 16.48 & POINT (37.25 -0.25)\\\\\n",
       "\t466 & 2021-01-10 & 19.94 & POINT (37.75 -0.25)\\\\\n",
       "\t467 & 2021-01-10 & 24.17 & POINT (38.25 -0.25)\\\\\n",
       "\t468 & 2021-01-10 & 25.62 & POINT (38.75 -0.25)\\\\\n",
       "\t469 & 2021-01-10 & 26.85 & POINT (39.25 -0.25)\\\\\n",
       "\t470 & 2021-01-10 & 18.10 & POINT (36.25 0.25)\\\\\n",
       "\t471 & 2021-01-10 & 16.96 & POINT (36.75 0.25)\\\\\n",
       "\t472 & 2021-01-10 & 17.56 & POINT (37.25 0.25)\\\\\n",
       "\t473 & 2021-01-10 & 20.60 & POINT (37.75 0.25)\\\\\n",
       "\t474 & 2021-01-10 & 24.57 & POINT (38.25 0.25)\\\\\n",
       "\t475 & 2021-01-10 & 26.08 & POINT (38.75 0.25)\\\\\n",
       "\t476 & 2021-01-10 & 27.01 & POINT (39.25 0.25)\\\\\n",
       "\t477 & 2021-01-10 & 21.34 & POINT (36.25 0.75)\\\\\n",
       "\t478 & 2021-01-10 & 18.85 & POINT (36.75 0.75)\\\\\n",
       "\t479 & 2021-01-10 & 20.30 & POINT (37.25 0.75)\\\\\n",
       "\t480 & 2021-01-10 & 23.06 & POINT (37.75 0.75)\\\\\n",
       "\t481 & 2021-01-10 & 25.36 & POINT (38.25 0.75)\\\\\n",
       "\t482 & 2021-01-10 & 26.59 & POINT (38.75 0.75)\\\\\n",
       "\t483 & 2021-01-10 & 27.21 & POINT (39.25 0.75)\\\\\n",
       "\t484 & 2021-01-10 & 24.02 & POINT (36.25 1.25)\\\\\n",
       "\t485 & 2021-01-10 & 21.08 & POINT (36.75 1.25)\\\\\n",
       "\t486 & 2021-01-10 & 22.23 & POINT (37.25 1.25)\\\\\n",
       "\t487 & 2021-01-10 & 24.62 & POINT (37.75 1.25)\\\\\n",
       "\t488 & 2021-01-10 & 26.39 & POINT (38.25 1.25)\\\\\n",
       "\t489 & 2021-01-10 & 26.85 & POINT (38.75 1.25)\\\\\n",
       "\t490 & 2021-01-10 & 27.01 & POINT (39.25 1.25)\\\\\n",
       "\\end{tabular}\n"
      ],
      "text/markdown": [
       "\n",
       "A sf: 490 × 3\n",
       "\n",
       "| <!--/--> | YYYYMMDD &lt;date&gt; | t2m &lt;dbl&gt; | geometry &lt;POINT [°]&gt; |\n",
       "|---|---|---|---|\n",
       "| 1 | 2021-01-01 | 22.10 | POINT (36.25 -1.75) |\n",
       "| 2 | 2021-01-01 | 20.16 | POINT (36.75 -1.75) |\n",
       "| 3 | 2021-01-01 | 20.26 | POINT (37.25 -1.75) |\n",
       "| 4 | 2021-01-01 | 21.72 | POINT (37.75 -1.75) |\n",
       "| 5 | 2021-01-01 | 24.00 | POINT (38.25 -1.75) |\n",
       "| 6 | 2021-01-01 | 26.74 | POINT (38.75 -1.75) |\n",
       "| 7 | 2021-01-01 | 28.03 | POINT (39.25 -1.75) |\n",
       "| 8 | 2021-01-01 | 18.28 | POINT (36.25 -1.25) |\n",
       "| 9 | 2021-01-01 | 18.67 | POINT (36.75 -1.25) |\n",
       "| 10 | 2021-01-01 | 19.93 | POINT (37.25 -1.25) |\n",
       "| 11 | 2021-01-01 | 21.67 | POINT (37.75 -1.25) |\n",
       "| 12 | 2021-01-01 | 23.78 | POINT (38.25 -1.25) |\n",
       "| 13 | 2021-01-01 | 26.32 | POINT (38.75 -1.25) |\n",
       "| 14 | 2021-01-01 | 27.64 | POINT (39.25 -1.25) |\n",
       "| 15 | 2021-01-01 | 14.85 | POINT (36.25 -0.75) |\n",
       "| 16 | 2021-01-01 | 16.20 | POINT (36.75 -0.75) |\n",
       "| 17 | 2021-01-01 | 18.65 | POINT (37.25 -0.75) |\n",
       "| 18 | 2021-01-01 | 21.29 | POINT (37.75 -0.75) |\n",
       "| 19 | 2021-01-01 | 23.73 | POINT (38.25 -0.75) |\n",
       "| 20 | 2021-01-01 | 25.87 | POINT (38.75 -0.75) |\n",
       "| 21 | 2021-01-01 | 27.30 | POINT (39.25 -0.75) |\n",
       "| 22 | 2021-01-01 | 14.98 | POINT (36.25 -0.25) |\n",
       "| 23 | 2021-01-01 | 15.47 | POINT (36.75 -0.25) |\n",
       "| 24 | 2021-01-01 | 16.68 | POINT (37.25 -0.25) |\n",
       "| 25 | 2021-01-01 | 19.75 | POINT (37.75 -0.25) |\n",
       "| 26 | 2021-01-01 | 23.88 | POINT (38.25 -0.25) |\n",
       "| 27 | 2021-01-01 | 25.80 | POINT (38.75 -0.25) |\n",
       "| 28 | 2021-01-01 | 27.22 | POINT (39.25 -0.25) |\n",
       "| 29 | 2021-01-01 | 17.56 | POINT (36.25 0.25) |\n",
       "| 30 | 2021-01-01 | 16.97 | POINT (36.75 0.25) |\n",
       "| ⋮ | ⋮ | ⋮ | ⋮ |\n",
       "| 461 | 2021-01-10 | 25.40 | POINT (38.75 -0.75) |\n",
       "| 462 | 2021-01-10 | 27.20 | POINT (39.25 -0.75) |\n",
       "| 463 | 2021-01-10 | 15.02 | POINT (36.25 -0.25) |\n",
       "| 464 | 2021-01-10 | 15.22 | POINT (36.75 -0.25) |\n",
       "| 465 | 2021-01-10 | 16.48 | POINT (37.25 -0.25) |\n",
       "| 466 | 2021-01-10 | 19.94 | POINT (37.75 -0.25) |\n",
       "| 467 | 2021-01-10 | 24.17 | POINT (38.25 -0.25) |\n",
       "| 468 | 2021-01-10 | 25.62 | POINT (38.75 -0.25) |\n",
       "| 469 | 2021-01-10 | 26.85 | POINT (39.25 -0.25) |\n",
       "| 470 | 2021-01-10 | 18.10 | POINT (36.25 0.25) |\n",
       "| 471 | 2021-01-10 | 16.96 | POINT (36.75 0.25) |\n",
       "| 472 | 2021-01-10 | 17.56 | POINT (37.25 0.25) |\n",
       "| 473 | 2021-01-10 | 20.60 | POINT (37.75 0.25) |\n",
       "| 474 | 2021-01-10 | 24.57 | POINT (38.25 0.25) |\n",
       "| 475 | 2021-01-10 | 26.08 | POINT (38.75 0.25) |\n",
       "| 476 | 2021-01-10 | 27.01 | POINT (39.25 0.25) |\n",
       "| 477 | 2021-01-10 | 21.34 | POINT (36.25 0.75) |\n",
       "| 478 | 2021-01-10 | 18.85 | POINT (36.75 0.75) |\n",
       "| 479 | 2021-01-10 | 20.30 | POINT (37.25 0.75) |\n",
       "| 480 | 2021-01-10 | 23.06 | POINT (37.75 0.75) |\n",
       "| 481 | 2021-01-10 | 25.36 | POINT (38.25 0.75) |\n",
       "| 482 | 2021-01-10 | 26.59 | POINT (38.75 0.75) |\n",
       "| 483 | 2021-01-10 | 27.21 | POINT (39.25 0.75) |\n",
       "| 484 | 2021-01-10 | 24.02 | POINT (36.25 1.25) |\n",
       "| 485 | 2021-01-10 | 21.08 | POINT (36.75 1.25) |\n",
       "| 486 | 2021-01-10 | 22.23 | POINT (37.25 1.25) |\n",
       "| 487 | 2021-01-10 | 24.62 | POINT (37.75 1.25) |\n",
       "| 488 | 2021-01-10 | 26.39 | POINT (38.25 1.25) |\n",
       "| 489 | 2021-01-10 | 26.85 | POINT (38.75 1.25) |\n",
       "| 490 | 2021-01-10 | 27.01 | POINT (39.25 1.25) |\n",
       "\n"
      ],
      "text/plain": [
       "    YYYYMMDD   t2m   geometry           \n",
       "1   2021-01-01 22.10 POINT (36.25 -1.75)\n",
       "2   2021-01-01 20.16 POINT (36.75 -1.75)\n",
       "3   2021-01-01 20.26 POINT (37.25 -1.75)\n",
       "4   2021-01-01 21.72 POINT (37.75 -1.75)\n",
       "5   2021-01-01 24.00 POINT (38.25 -1.75)\n",
       "6   2021-01-01 26.74 POINT (38.75 -1.75)\n",
       "7   2021-01-01 28.03 POINT (39.25 -1.75)\n",
       "8   2021-01-01 18.28 POINT (36.25 -1.25)\n",
       "9   2021-01-01 18.67 POINT (36.75 -1.25)\n",
       "10  2021-01-01 19.93 POINT (37.25 -1.25)\n",
       "11  2021-01-01 21.67 POINT (37.75 -1.25)\n",
       "12  2021-01-01 23.78 POINT (38.25 -1.25)\n",
       "13  2021-01-01 26.32 POINT (38.75 -1.25)\n",
       "14  2021-01-01 27.64 POINT (39.25 -1.25)\n",
       "15  2021-01-01 14.85 POINT (36.25 -0.75)\n",
       "16  2021-01-01 16.20 POINT (36.75 -0.75)\n",
       "17  2021-01-01 18.65 POINT (37.25 -0.75)\n",
       "18  2021-01-01 21.29 POINT (37.75 -0.75)\n",
       "19  2021-01-01 23.73 POINT (38.25 -0.75)\n",
       "20  2021-01-01 25.87 POINT (38.75 -0.75)\n",
       "21  2021-01-01 27.30 POINT (39.25 -0.75)\n",
       "22  2021-01-01 14.98 POINT (36.25 -0.25)\n",
       "23  2021-01-01 15.47 POINT (36.75 -0.25)\n",
       "24  2021-01-01 16.68 POINT (37.25 -0.25)\n",
       "25  2021-01-01 19.75 POINT (37.75 -0.25)\n",
       "26  2021-01-01 23.88 POINT (38.25 -0.25)\n",
       "27  2021-01-01 25.80 POINT (38.75 -0.25)\n",
       "28  2021-01-01 27.22 POINT (39.25 -0.25)\n",
       "29  2021-01-01 17.56 POINT (36.25 0.25) \n",
       "30  2021-01-01 16.97 POINT (36.75 0.25) \n",
       "⋮   ⋮          ⋮     ⋮                  \n",
       "461 2021-01-10 25.40 POINT (38.75 -0.75)\n",
       "462 2021-01-10 27.20 POINT (39.25 -0.75)\n",
       "463 2021-01-10 15.02 POINT (36.25 -0.25)\n",
       "464 2021-01-10 15.22 POINT (36.75 -0.25)\n",
       "465 2021-01-10 16.48 POINT (37.25 -0.25)\n",
       "466 2021-01-10 19.94 POINT (37.75 -0.25)\n",
       "467 2021-01-10 24.17 POINT (38.25 -0.25)\n",
       "468 2021-01-10 25.62 POINT (38.75 -0.25)\n",
       "469 2021-01-10 26.85 POINT (39.25 -0.25)\n",
       "470 2021-01-10 18.10 POINT (36.25 0.25) \n",
       "471 2021-01-10 16.96 POINT (36.75 0.25) \n",
       "472 2021-01-10 17.56 POINT (37.25 0.25) \n",
       "473 2021-01-10 20.60 POINT (37.75 0.25) \n",
       "474 2021-01-10 24.57 POINT (38.25 0.25) \n",
       "475 2021-01-10 26.08 POINT (38.75 0.25) \n",
       "476 2021-01-10 27.01 POINT (39.25 0.25) \n",
       "477 2021-01-10 21.34 POINT (36.25 0.75) \n",
       "478 2021-01-10 18.85 POINT (36.75 0.75) \n",
       "479 2021-01-10 20.30 POINT (37.25 0.75) \n",
       "480 2021-01-10 23.06 POINT (37.75 0.75) \n",
       "481 2021-01-10 25.36 POINT (38.25 0.75) \n",
       "482 2021-01-10 26.59 POINT (38.75 0.75) \n",
       "483 2021-01-10 27.21 POINT (39.25 0.75) \n",
       "484 2021-01-10 24.02 POINT (36.25 1.25) \n",
       "485 2021-01-10 21.08 POINT (36.75 1.25) \n",
       "486 2021-01-10 22.23 POINT (37.25 1.25) \n",
       "487 2021-01-10 24.62 POINT (37.75 1.25) \n",
       "488 2021-01-10 26.39 POINT (38.25 1.25) \n",
       "489 2021-01-10 26.85 POINT (38.75 1.25) \n",
       "490 2021-01-10 27.01 POINT (39.25 1.25) "
      ]
     },
     "metadata": {},
     "output_type": "display_data"
    }
   ],
   "source": [
    "f_point.data <- function(file_name, p){\n",
    "  require(sf)\n",
    "  data <- f_tblR.JSON(file_name, p)\n",
    "  data <- st_as_sf(data, coords = c(\"lon\", \"lat\"), crs = 4326)\n",
    "#   data <- data %>%\n",
    "#     spread(date, p)\n",
    "  colnames(data) <- c('YYYYMMDD', p, \"geometry\")#gsub('-', '_', colnames(data), fixed=TRUE)\n",
    "  return(data)\n",
    "}\n",
    "f_point.data(\"/home/jovyan/work/git/source_data/data/POWER_Regional_Daily_20210101_20210110_d2b00515.json\", \"t2m\")"
   ]
  },
  {
   "cell_type": "markdown",
   "metadata": {},
   "source": [
    "<span style=\"font-size:1.25em;\">Finally, we can also create a spatio-temporal raster stack. Here we can also define the final resolution:</span>"
   ]
  },
  {
   "cell_type": "code",
   "execution_count": 45,
   "metadata": {},
   "outputs": [
    {
     "data": {
      "image/png": "[encoded data removed]",
      "text/plain": [
       "Plot with title “”"
      ]
     },
     "metadata": {
      "image/png": {
       "height": 420,
       "width": 420
      },
      "text/plain": {
       "height": 420,
       "width": 420
      }
     },
     "output_type": "display_data"
    }
   ],
   "source": [
    "f_data.Cube <- function(file_name, p, tr){\n",
    "  tbl <- f_tblR.JSON(file_name, p)\n",
    "  pnt <- f_point.data(file_name, p)\n",
    "  require(raster)\n",
    "# Create new objects for each parameter selected  \n",
    "  lapply(names(pnt)[!grepl(paste(c(\"YYYYMMDD\",\"geometry\"), collapse=\"|\"), names(pnt))], function(x) assign(x, pnt[c(\"YYYYMMDD\",x)], envir = .GlobalEnv))\n",
    "# Rasterize the sf of each parameter at a selected resolution (tr)\n",
    "  for(i in names(pnt)[!grepl(paste(c(\"YYYYMMDD\", \"geometry\"), collapse=\"|\"), names(pnt))]){\n",
    "    r <- raster(ext = extent(st_bbox(pnt)) + 0.5, crs = \"+proj=longlat +datum=WGS84 +no_defs +ellps=WGS84 +towgs84=0,0,0\", resolution = 0.5)\n",
    "    st <- stack()\n",
    "    j <- get(i, envir = .GlobalEnv)\n",
    "    j <-tidyr::spread(j, \"YYYYMMDD\", i)\n",
    "    ## Re-format column labels\n",
    "    colnames(j) <- gsub('-', '_', colnames(j), fixed=TRUE)\n",
    "    n <- 1\n",
    "    for(k in names(j)[!grepl(\"['geometry]\", names(j))]){\n",
    "      vals <- dplyr::pull(j, k) # Read vector with`` the values of the date (k)\n",
    "      r <- raster(ext = extent(st_bbox(j)) + 0.5, crs = \"+proj=longlat +datum=WGS84 +no_defs +ellps=WGS84 +towgs84=0,0,0\",\n",
    "                  resolution = tr) # Create Raster object with the desired Target Resolution\n",
    "      # # Add this part to work inside of CG Labs\n",
    "      # # It works with library(raster) object SpatialPointsDataFrame\n",
    "      lonlat <- cbind(tbl$lon, tbl$lat)\n",
    "      df <- data.frame(ID=1:nrow(lonlat), i = vals)\n",
    "      colnames(df) <- c(\"ID\", i)\n",
    "      v <- SpatialPointsDataFrame(lonlat, data=df, proj4string = CRS(\"+proj=longlat +datum=WGS84 +no_defs +ellps=WGS84 +towgs84=0,0,0\"))\n",
    "      ras <- rasterize(x = v,\n",
    "                       y = raster(ext = extent(st_bbox(j)) + 0.5, crs = \"+proj=longlat +datum=WGS84 +no_defs +ellps=WGS84 +towgs84=0,0,0\", resolution = 0.5),\n",
    "                       field = i)\n",
    "      # # # This part is removed (not working inside CG Labs)\n",
    "      # ras <- rasterize(x = j,\n",
    "      #                  y = raster(ext = extent(st_bbox(j)) + 0.5, resolution = 0.5),\n",
    "      #                  field = vals)\n",
    "      crs(ras) <- \"+proj=longlat +datum=WGS84 +no_defs +ellps=WGS84 +towgs84=0,0,0\"\n",
    "      ras <- resample(ras, r, method = \"bilinear\")\n",
    "      st <- stack(st,ras)\n",
    "      names(st[[n]]) <- as.character(paste0('date_', gsub(\"_\", \"-\", k))) # https://stackoverflow.com/questions/36844460/why-does-r-add-an-x-when-renaming-raster-stack-layers\n",
    "      # Create RasterStack of each object\n",
    "      assign(paste0(i), st , envir = .GlobalEnv)\n",
    "      remove(vals,ras)\n",
    "      n <- n + 1\n",
    "    }\n",
    "  }\n",
    "}\n",
    "\n",
    "raster_data <- f_data.Cube(\"/home/jovyan/work/git/source_data/data/POWER_Regional_Daily_20210101_20210110_d2b00515.json\", \"t2m\", 0.0833)\n",
    "plot(t2m[[8]])"
   ]
  },
  {
   "cell_type": "markdown",
   "metadata": {},
   "source": [
    "<span style=\"font-size:1.25em;\">Alternatively, we can also use the NASA POWER API directly, including more parameters in a single query using ``nasaP``:</span>"
   ]
  },
  {
   "cell_type": "code",
   "execution_count": 50,
   "metadata": {},
   "outputs": [
    {
     "data": {
      "image/png": "[encoded data removed]",
      "text/plain": [
       "Plot with title “”"
      ]
     },
     "metadata": {
      "image/png": {
       "height": 420,
       "width": 420
      },
      "text/plain": {
       "height": 420,
       "width": 420
      }
     },
     "output_type": "display_data"
    }
   ],
   "source": [
    "source('/home/jovyan/work/git/source_data/R/nasapower_download.R')\n",
    "nasaP(tr = 0.08333, xmin = 36, ymin = -2, xmax = 39, ymax = 1, sdate = \"2021-01-01\", edate = \"2021-01-10\", \"T2M\", \"T10M\", \"PS\", \"RH2M\")\n",
    "plot(T2M[[8]])"
   ]
  },
  {
   "cell_type": "markdown",
   "metadata": {},
   "source": [
    "## Google Earth Catalogue\n",
    "\n",
    "![](img/logo_gee1.png)\n",
    "\n",
    "<span style=\"font-size:1.25em;\">Earth Engine's public data catalog includes a variety of standard Earth science raster datasets. You can import these datasets into your script environment and start analyzing data using Google's computing resources. Results can then be exported and saed on premises.</span>\n",
    "\n",
    "<span style=\"font-size:1.25em;\">Using the [``rgee`` R package](https://r-spatial.github.io/rgee/index.html) we can interact with Google Earth Engine APIs and get access to a large variety of spatio-temporal datasets including: CHIRPS, Landsat, and many others.</span>\n",
    "\n",
    "<span style=\"font-size:1.25em;\">Using ``daily_data_gee.R`` and ``extract_daily_data.R`` we can export results as a ``FeatureCollection`` in JSON format.</span>\n"
   ]
  },
  {
   "cell_type": "markdown",
   "metadata": {},
   "source": [
    "## OpenLandMap.org\n",
    "\n",
    "<span style=\"font-size:1.25em;\">"
   ]
  }
 ],
 "metadata": {
  "kernelspec": {
   "display_name": "R",
   "language": "R",
   "name": "ir"
  },
  "language_info": {
   "codemirror_mode": "r",
   "file_extension": ".r",
   "mimetype": "text/x-r-source",
   "name": "R",
   "pygments_lexer": "r",
   "version": "3.6.3"
  }
 },
 "nbformat": 4,
 "nbformat_minor": 4
}
